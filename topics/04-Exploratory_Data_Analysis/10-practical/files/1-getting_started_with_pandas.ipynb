{
  "cells": [
    {
      "cell_type": "markdown",
      "id": "c20403d5",
      "metadata": {
        "slideshow": {
          "slide_type": "slide"
        }
      },
      "source": [
        "# Section 1: Getting Started With Pandas\n",
        "\n",
        "We will begin by introducing the `Series`, `DataFrame`, and `Index` classes, which are the basic building blocks of the pandas library, and showing how to work with them. By the end of this section, you will be able to create DataFrames and perform operations on them to inspect and filter the data."
      ]
    },
    {
      "cell_type": "markdown",
      "id": "f11868ff",
      "metadata": {
        "slideshow": {
          "slide_type": "slide"
        }
      },
      "source": [
        "## Anatomy of a DataFrame\n",
        "\n",
        "A **DataFrame** is composed of one or more **Series**. The names of the **Series** form the column names, and the row labels form the **Index**."
      ]
    },
    {
      "cell_type": "code",
      "execution_count": null,
      "id": "2412bfdf",
      "metadata": {},
      "outputs": [],
      "source": [
        "import pandas as pd\n",
        "\n",
        "meteorites = pd.read_csv('data/Meteorite_Landings.csv', nrows=5)\n",
        "meteorites"
      ]
    },
    {
      "cell_type": "markdown",
      "id": "b5596d01",
      "metadata": {},
      "source": [
        "*Source: [NASA's Open Data Portal](https://data.nasa.gov/Space-Science/Meteorite-Landings/gh4g-9sfh)*"
      ]
    },
    {
      "cell_type": "markdown",
      "id": "606a37c7",
      "metadata": {
        "slideshow": {
          "slide_type": "subslide"
        }
      },
      "source": [
        "#### Series:"
      ]
    },
    {
      "cell_type": "code",
      "execution_count": null,
      "id": "112cf827",
      "metadata": {},
      "outputs": [],
      "source": [
        "meteorites.name"
      ]
    },
    {
      "cell_type": "markdown",
      "id": "737c59e9",
      "metadata": {
        "slideshow": {
          "slide_type": "subslide"
        }
      },
      "source": [
        "#### Columns:"
      ]
    },
    {
      "cell_type": "code",
      "execution_count": null,
      "id": "d6e570d6",
      "metadata": {},
      "outputs": [],
      "source": [
        "meteorites.columns"
      ]
    },
    {
      "cell_type": "markdown",
      "id": "c87679ca",
      "metadata": {
        "slideshow": {
          "slide_type": "fragment"
        }
      },
      "source": [
        "#### Index:"
      ]
    },
    {
      "cell_type": "code",
      "execution_count": null,
      "id": "109d0932",
      "metadata": {},
      "outputs": [],
      "source": [
        "meteorites.index"
      ]
    },
    {
      "cell_type": "markdown",
      "id": "3d36333c",
      "metadata": {
        "slideshow": {
          "slide_type": "slide"
        }
      },
      "source": [
        "## Creating DataFrames\n",
        "\n",
        "We can create DataFrames from a variety of sources such as other Python objects, flat files, webscraping, and API requests. Here, we will see just a couple of examples, but be sure to check out [this page](https://pandas.pydata.org/pandas-docs/stable/user_guide/io.html) in the documentation for a complete list."
      ]
    },
    {
      "cell_type": "markdown",
      "id": "3a75ff8c",
      "metadata": {
        "slideshow": {
          "slide_type": "subslide"
        }
      },
      "source": [
        "### Using a flat file"
      ]
    },
    {
      "cell_type": "code",
      "execution_count": null,
      "id": "48670a0c",
      "metadata": {},
      "outputs": [],
      "source": [
        "import pandas as pd\n",
        "\n",
        "meteorites = pd.read_csv('data/Meteorite_Landings.csv')"
      ]
    },
    {
      "cell_type": "markdown",
      "id": "9abab1c2",
      "metadata": {
        "slideshow": {
          "slide_type": "fragment"
        }
      },
      "source": [
        "*Tip: There are many parameters to this function to handle some initial processing while reading in the file &ndash; be sure check out the [documentation](https://pandas.pydata.org/docs/reference/api/pandas.read_csv.html).*"
      ]
    },
    {
      "cell_type": "markdown",
      "id": "6535b5d7",
      "metadata": {
        "slideshow": {
          "slide_type": "subslide"
        }
      },
      "source": [
        "### Using data from an API\n",
        "\n",
        "Collect the data from [NASA's Open Data Portal](https://data.nasa.gov/Space-Science/Meteorite-Landings/gh4g-9sfh) using the Socrata Open Data API (SODA) with the `requests` library:"
      ]
    },
    {
      "cell_type": "code",
      "execution_count": null,
      "id": "e3d183e6",
      "metadata": {},
      "outputs": [],
      "source": [
        "import requests\n",
        "\n",
        "response = requests.get(\n",
        "    'https://data.nasa.gov/resource/gh4g-9sfh.json',\n",
        "    params={'$limit': 50_000}\n",
        ")\n",
        "\n",
        "if response.ok:\n",
        "    payload = response.json()\n",
        "else:\n",
        "    print(f'Request was not successful and returned code: {response.status_code}.')\n",
        "    payload = None"
      ]
    },
    {
      "cell_type": "markdown",
      "id": "ab4f36c5",
      "metadata": {
        "slideshow": {
          "slide_type": "subslide"
        }
      },
      "source": [
        "Create the DataFrame with the resulting payload:"
      ]
    },
    {
      "cell_type": "code",
      "execution_count": null,
      "id": "cbde81e4",
      "metadata": {},
      "outputs": [],
      "source": [
        "import pandas as pd\n",
        "\n",
        "df = pd.DataFrame(payload)\n",
        "df.head(3)"
      ]
    },
    {
      "cell_type": "markdown",
      "id": "5e9d5b20",
      "metadata": {
        "slideshow": {
          "slide_type": "fragment"
        }
      },
      "source": [
        "*Tip: `df.to_csv('data.csv')` writes this data to a new file called `data.csv`.*"
      ]
    },
    {
      "cell_type": "markdown",
      "id": "8c13dcdd",
      "metadata": {
        "slideshow": {
          "slide_type": "slide"
        }
      },
      "source": [
        "## Inspecting the data\n",
        "Now that we have some data, we need to perform an initial inspection of it. This gives us information on what the data looks like, how many rows/columns there are, and how much data we have. "
      ]
    },
    {
      "cell_type": "markdown",
      "id": "a4ca7c10",
      "metadata": {
        "slideshow": {
          "slide_type": "fragment"
        }
      },
      "source": [
        "Let's inspect the `meteorites` data."
      ]
    },
    {
      "cell_type": "markdown",
      "id": "0d177e6c",
      "metadata": {
        "slideshow": {
          "slide_type": "subslide"
        }
      },
      "source": [
        "#### How many rows and columns are there?"
      ]
    },
    {
      "cell_type": "code",
      "execution_count": null,
      "id": "dd6c7116",
      "metadata": {},
      "outputs": [],
      "source": [
        "meteorites.shape"
      ]
    },
    {
      "cell_type": "markdown",
      "id": "c4a10ff6",
      "metadata": {
        "slideshow": {
          "slide_type": "fragment"
        }
      },
      "source": [
        "#### What are the column names?"
      ]
    },
    {
      "cell_type": "code",
      "execution_count": null,
      "id": "b9045aa1",
      "metadata": {},
      "outputs": [],
      "source": [
        "meteorites.columns"
      ]
    },
    {
      "cell_type": "markdown",
      "id": "29383cdd",
      "metadata": {
        "slideshow": {
          "slide_type": "subslide"
        }
      },
      "source": [
        "#### What type of data does each column currently hold?"
      ]
    },
    {
      "cell_type": "code",
      "execution_count": null,
      "id": "fbd75463",
      "metadata": {},
      "outputs": [],
      "source": [
        "meteorites.dtypes"
      ]
    },
    {
      "cell_type": "markdown",
      "id": "fdddec08",
      "metadata": {
        "slideshow": {
          "slide_type": "subslide"
        }
      },
      "source": [
        "#### What does the data look like?"
      ]
    },
    {
      "cell_type": "code",
      "execution_count": null,
      "id": "bb101eeb",
      "metadata": {},
      "outputs": [],
      "source": [
        "meteorites.head()"
      ]
    },
    {
      "cell_type": "markdown",
      "id": "cbc3d73d",
      "metadata": {
        "slideshow": {
          "slide_type": "subslide"
        }
      },
      "source": [
        "Sometimes there may be extraneous data at the end of the file, so checking the bottom few rows is also important:"
      ]
    },
    {
      "cell_type": "code",
      "execution_count": null,
      "id": "202bac44",
      "metadata": {},
      "outputs": [],
      "source": [
        "meteorites.tail()"
      ]
    },
    {
      "cell_type": "markdown",
      "id": "cbea9b94",
      "metadata": {
        "slideshow": {
          "slide_type": "subslide"
        }
      },
      "source": [
        "#### Get some information about the DataFrame"
      ]
    },
    {
      "cell_type": "code",
      "execution_count": null,
      "id": "c9edbd14",
      "metadata": {},
      "outputs": [],
      "source": [
        "meteorites.info()"
      ]
    },
    {
      "cell_type": "markdown",
      "id": "7438f8a2",
      "metadata": {},
      "source": [
        "### Exercise 1.1\n",
        "\n",
        "##### Create a DataFrame by reading in the `2019_Yellow_Taxi_Trip_Data.csv` file. Examine the first 5 rows."
      ]
    },
    {
      "cell_type": "code",
      "execution_count": null,
      "id": "d0515fa6",
      "metadata": {},
      "outputs": [],
      "source": [
        "# Complete exercise 1.1 in the workbook1.ipynb file\n",
        "\n",
        "# WARNING: if you complete the exercise here, your cell numbers\n",
        "# for the rest of the training might not match the slides"
      ]
    },
    {
      "cell_type": "markdown",
      "id": "51a9152d",
      "metadata": {},
      "source": [
        "### Exercise 1.2\n",
        "\n",
        "##### Find the dimensions (number of rows and number of columns) in the data."
      ]
    },
    {
      "cell_type": "code",
      "execution_count": null,
      "id": "e57b6ada",
      "metadata": {},
      "outputs": [],
      "source": [
        "# Complete exercise 1.2 in the workbook1.ipynb file\n",
        "\n",
        "# WARNING: if you complete the exercise here, your cell numbers\n",
        "# for the rest of the training might not match the slides"
      ]
    },
    {
      "cell_type": "markdown",
      "id": "ae017f01",
      "metadata": {
        "slideshow": {
          "slide_type": "slide"
        }
      },
      "source": [
        "## Extracting subsets\n",
        "\n",
        "A crucial part of working with DataFrames is extracting subsets of the data: finding rows that meet a certain set of criteria, isolating columns/rows of interest, etc. After narrowing down our data, we are closer to discovering insights. This section will be the backbone of many analysis tasks."
      ]
    },
    {
      "cell_type": "markdown",
      "id": "332dce0c",
      "metadata": {
        "slideshow": {
          "slide_type": "subslide"
        }
      },
      "source": [
        "#### Selecting columns\n",
        "\n",
        "We can select columns as attributes if their names would be valid Python variables:"
      ]
    },
    {
      "cell_type": "code",
      "execution_count": null,
      "id": "59aeae8f",
      "metadata": {},
      "outputs": [],
      "source": [
        "meteorites.name"
      ]
    },
    {
      "cell_type": "markdown",
      "id": "1a95c793",
      "metadata": {
        "slideshow": {
          "slide_type": "subslide"
        }
      },
      "source": [
        "If they aren't, we have to select them as keys. However, we can select multiple columns at once this way:"
      ]
    },
    {
      "cell_type": "code",
      "execution_count": null,
      "id": "8504cfcf",
      "metadata": {},
      "outputs": [],
      "source": [
        "meteorites[['name', 'mass (g)']]"
      ]
    },
    {
      "cell_type": "markdown",
      "id": "22ad4dde",
      "metadata": {
        "slideshow": {
          "slide_type": "subslide"
        }
      },
      "source": [
        "#### Selecting rows"
      ]
    },
    {
      "cell_type": "code",
      "execution_count": null,
      "id": "5dd39278",
      "metadata": {},
      "outputs": [],
      "source": [
        "meteorites[100:104]"
      ]
    },
    {
      "cell_type": "markdown",
      "id": "6388f7a0",
      "metadata": {
        "slideshow": {
          "slide_type": "subslide"
        }
      },
      "source": [
        "#### Indexing\n",
        "\n",
        "We use `iloc[]` to select rows and columns by their position:"
      ]
    },
    {
      "cell_type": "code",
      "execution_count": null,
      "id": "937095e3",
      "metadata": {},
      "outputs": [],
      "source": [
        "meteorites.iloc[100:104, [0, 3, 4, 6]]"
      ]
    },
    {
      "cell_type": "markdown",
      "id": "d6b3ca90",
      "metadata": {
        "slideshow": {
          "slide_type": "fragment"
        }
      },
      "source": [
        "We use `loc[]` to select by name:"
      ]
    },
    {
      "cell_type": "code",
      "execution_count": null,
      "id": "9980deb1",
      "metadata": {},
      "outputs": [],
      "source": [
        "meteorites.loc[100:104, 'mass (g)':'year']"
      ]
    },
    {
      "cell_type": "markdown",
      "id": "f681d662",
      "metadata": {
        "slideshow": {
          "slide_type": "subslide"
        }
      },
      "source": [
        "#### Filtering with Boolean masks\n",
        "\n",
        "A **Boolean mask** is a array-like structure of Boolean values &ndash; it's a way to specify which rows/columns we want to select (`True`) and which we don't (`False`)."
      ]
    },
    {
      "cell_type": "markdown",
      "id": "ac3937db",
      "metadata": {
        "slideshow": {
          "slide_type": "subslide"
        }
      },
      "source": [
        "Here's an example of a Boolean mask for meteorites weighing more than 50 grams that were found on Earth (i.e., they were not observed falling):"
      ]
    },
    {
      "cell_type": "code",
      "execution_count": null,
      "id": "7a6bc410",
      "metadata": {},
      "outputs": [],
      "source": [
        "(meteorites['mass (g)'] > 50) & (meteorites.fall == 'Found')"
      ]
    },
    {
      "cell_type": "markdown",
      "id": "e3fa17a1",
      "metadata": {
        "slideshow": {
          "slide_type": "fragment"
        }
      },
      "source": [
        "**Important**: Take note of the syntax here. We surround each condition with parentheses, and we use bitwise operators (`&`, `|`, `~`) instead of logical operators (`and`, `or`, `not`)."
      ]
    },
    {
      "cell_type": "markdown",
      "id": "3a64dd34",
      "metadata": {
        "slideshow": {
          "slide_type": "subslide"
        }
      },
      "source": [
        "We can use a Boolean mask to select the subset of meteorites weighing more than 1 million grams (1,000 kilograms or roughly 2,205 pounds) that were observed falling:"
      ]
    },
    {
      "cell_type": "code",
      "execution_count": null,
      "id": "5fb59648",
      "metadata": {},
      "outputs": [],
      "source": [
        "meteorites[(meteorites['mass (g)'] > 1e6) & (meteorites.fall == 'Fell')]"
      ]
    },
    {
      "cell_type": "markdown",
      "id": "b089ce4f",
      "metadata": {
        "slideshow": {
          "slide_type": "fragment"
        }
      },
      "source": [
        "*Tip: Boolean masks can be used with `loc[]` and `iloc[]`.*"
      ]
    },
    {
      "cell_type": "markdown",
      "id": "3003a033",
      "metadata": {
        "slideshow": {
          "slide_type": "subslide"
        }
      },
      "source": [
        "An alternative to this is the `query()` method:"
      ]
    },
    {
      "cell_type": "code",
      "execution_count": null,
      "id": "13bd1cc8",
      "metadata": {},
      "outputs": [],
      "source": [
        "meteorites.query(\"`mass (g)` > 1e6 and fall == 'Fell'\")"
      ]
    },
    {
      "cell_type": "markdown",
      "id": "63d4fe86",
      "metadata": {
        "slideshow": {
          "slide_type": "fragment"
        }
      },
      "source": [
        "*Tip: Here, we can use both logical operators and bitwise operators.*"
      ]
    },
    {
      "cell_type": "markdown",
      "id": "293e50b1",
      "metadata": {
        "slideshow": {
          "slide_type": "slide"
        }
      },
      "source": [
        "## Calculating summary statistics\n",
        "\n",
        "In the next section of this workshop, we will discuss data cleaning for a more meaningful analysis of our datasets; however, we can already extract some interesting insights from the `meteorites` data by calculating summary statistics."
      ]
    },
    {
      "cell_type": "markdown",
      "id": "250c6603",
      "metadata": {
        "slideshow": {
          "slide_type": "subslide"
        }
      },
      "source": [
        "#### How many of the meteorites were found versus observed falling?"
      ]
    },
    {
      "cell_type": "code",
      "execution_count": null,
      "id": "c033c878",
      "metadata": {},
      "outputs": [],
      "source": [
        "meteorites.fall.value_counts()"
      ]
    },
    {
      "cell_type": "markdown",
      "id": "7543c642",
      "metadata": {
        "slideshow": {
          "slide_type": "fragment"
        }
      },
      "source": [
        "*Tip: Pass in `normalize=True` to see this result as percentages. Check the [documentation](https://pandas.pydata.org/docs/reference/api/pandas.Series.value_counts.html) for additional functionality.*"
      ]
    },
    {
      "cell_type": "markdown",
      "id": "68946922",
      "metadata": {
        "slideshow": {
          "slide_type": "subslide"
        }
      },
      "source": [
        "#### What was the mass of the average meterorite?"
      ]
    },
    {
      "cell_type": "code",
      "execution_count": null,
      "id": "4fdaf746",
      "metadata": {},
      "outputs": [],
      "source": [
        "meteorites['mass (g)'].median()"
      ]
    },
    {
      "cell_type": "markdown",
      "id": "4effad0b",
      "metadata": {
        "slideshow": {
          "slide_type": "fragment"
        }
      },
      "source": [
        "We can take this a step further and look at quantiles:"
      ]
    },
    {
      "cell_type": "code",
      "execution_count": null,
      "id": "8dfcd321",
      "metadata": {},
      "outputs": [],
      "source": [
        "meteorites['mass (g)'].quantile([0.01, 0.05, 0.95, 0.99])"
      ]
    },
    {
      "cell_type": "markdown",
      "id": "8e7b0659",
      "metadata": {
        "slideshow": {
          "slide_type": "subslide"
        }
      },
      "source": [
        "#### What was the mass of the heaviest meteorite?"
      ]
    },
    {
      "cell_type": "code",
      "execution_count": null,
      "id": "c37a5693",
      "metadata": {},
      "outputs": [],
      "source": [
        "meteorites['mass (g)'].max()"
      ]
    },
    {
      "cell_type": "markdown",
      "id": "174b373c",
      "metadata": {
        "slideshow": {
          "slide_type": "fragment"
        }
      },
      "source": [
        "Let's extract the information on this meteorite:"
      ]
    },
    {
      "cell_type": "code",
      "execution_count": null,
      "id": "cd4e2506",
      "metadata": {},
      "outputs": [],
      "source": [
        "meteorites.loc[meteorites['mass (g)'].idxmax()]"
      ]
    },
    {
      "cell_type": "markdown",
      "id": "73497767",
      "metadata": {
        "slideshow": {
          "slide_type": "subslide"
        }
      },
      "source": [
        "#### How many different types of meteorite classes are represented in this dataset?"
      ]
    },
    {
      "cell_type": "code",
      "execution_count": null,
      "id": "244ec058",
      "metadata": {},
      "outputs": [],
      "source": [
        "meteorites.recclass.nunique()"
      ]
    },
    {
      "cell_type": "markdown",
      "id": "84291e68",
      "metadata": {
        "slideshow": {
          "slide_type": "fragment"
        }
      },
      "source": [
        "Some examples:"
      ]
    },
    {
      "cell_type": "code",
      "execution_count": null,
      "id": "81f137dd",
      "metadata": {},
      "outputs": [],
      "source": [
        "meteorites.recclass.unique()[:14]"
      ]
    },
    {
      "cell_type": "markdown",
      "id": "4c3b4434",
      "metadata": {},
      "source": [
        "*Note: All fields preceded with \"rec\" are the values recommended by The Meteoritical Society. Check out [this Wikipedia article](https://en.wikipedia.org/wiki/Meteorite_classification) for some information on meteorite classes.*"
      ]
    },
    {
      "cell_type": "markdown",
      "id": "07d03dc8",
      "metadata": {
        "slideshow": {
          "slide_type": "subslide"
        }
      },
      "source": [
        "#### Get some summary statistics on the data itself\n",
        "We can get common summary statistics for all columns at once. By default, this will only be numeric columns, but here, we will summarize everything together:"
      ]
    },
    {
      "cell_type": "code",
      "execution_count": null,
      "id": "0c20d0de",
      "metadata": {},
      "outputs": [],
      "source": [
        "meteorites.describe(include='all')"
      ]
    },
    {
      "cell_type": "markdown",
      "id": "54297530",
      "metadata": {},
      "source": [
        "**Important**: `NaN` values signify missing data. For instance, the `fall` column contains strings, so there is no value for `mean`; likewise, `mass (g)` is numeric, so we don't have entries for the categorical summary statistics (`unique`, `top`, `freq`)."
      ]
    },
    {
      "cell_type": "markdown",
      "id": "24d1c5fe",
      "metadata": {
        "slideshow": {
          "slide_type": "subslide"
        }
      },
      "source": [
        "#### Check out the documentation for more descriptive statistics:\n",
        "\n",
        "- [Series](https://pandas.pydata.org/docs/reference/series.html#computations-descriptive-stats)\n",
        "- [DataFrame](https://pandas.pydata.org/docs/reference/frame.html#computations-descriptive-stats)"
      ]
    },
    {
      "cell_type": "markdown",
      "id": "f10d13c3",
      "metadata": {},
      "source": [
        "### Exercise 1.3\n",
        "\n",
        "##### Using the data in the `2019_Yellow_Taxi_Trip_Data.csv` file, calculate summary statistics for the `fare_amount`, `tip_amount`, `tolls_amount`, and `total_amount` columns."
      ]
    },
    {
      "cell_type": "code",
      "execution_count": null,
      "id": "89c9b5ae",
      "metadata": {},
      "outputs": [],
      "source": [
        "# Complete exercise 1.3 in the workbook1.ipynb file"
      ]
    },
    {
      "cell_type": "markdown",
      "id": "9879d73e",
      "metadata": {},
      "source": [
        "### Exercise 1.4\n",
        "\n",
        "##### Find the dimensions (number of rows and number of columns) in the data."
      ]
    },
    {
      "cell_type": "code",
      "execution_count": null,
      "id": "ce80ab01",
      "metadata": {},
      "outputs": [],
      "source": [
        "# Complete exercise 1.4 in the workbook.ipynb file"
      ]
    }
  ],
  "metadata": {
    "kernelspec": {
      "display_name": "Python 3 (ipykernel)",
      "language": "python",
      "name": "python3"
    }
  },
  "nbformat": 4,
  "nbformat_minor": 5
}
