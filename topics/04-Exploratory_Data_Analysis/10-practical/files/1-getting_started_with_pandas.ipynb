{
  "cells": [
    {
      "cell_type": "markdown",
      "id": "43aa4719",
      "metadata": {
        "slideshow": {
          "slide_type": "slide"
        },
        "tags": []
      },
      "source": [
        "# Section 1: Getting Started With Pandas\n",
        "\n",
        "We will begin by introducing the `Series`, `DataFrame`, and `Index` classes, which are the basic building blocks of the pandas library, and showing how to work with them. By the end of this section, you will be able to create DataFrames and perform operations on them to inspect and filter the data."
      ]
    },
    {
      "cell_type": "markdown",
      "id": "619a0212",
      "metadata": {
        "slideshow": {
          "slide_type": "slide"
        },
        "tags": []
      },
      "source": [
        "## Anatomy of a DataFrame\n",
        "\n",
        "A **DataFrame** is composed of one or more **Series**. The names of the **Series** form the column names, and the row labels form the **Index**."
      ]
    },
    {
      "cell_type": "code",
      "execution_count": null,
      "id": "e84da08d",
      "metadata": {
        "tags": []
      },
      "outputs": [],
      "source": [
        "import pandas as pd\n",
        "\n",
        "meteorites = pd.read_csv('data/Meteorite_Landings.csv', nrows=5)\n",
        "meteorites"
      ]
    },
    {
      "cell_type": "markdown",
      "id": "be188b44",
      "metadata": {},
      "source": [
        "*Source: [NASA's Open Data Portal](https://data.nasa.gov/Space-Science/Meteorite-Landings/gh4g-9sfh)*"
      ]
    },
    {
      "cell_type": "markdown",
      "id": "d807b765",
      "metadata": {
        "slideshow": {
          "slide_type": "subslide"
        },
        "tags": []
      },
      "source": [
        "#### Series:"
      ]
    },
    {
      "cell_type": "code",
      "execution_count": null,
      "id": "a2d33480",
      "metadata": {
        "tags": []
      },
      "outputs": [],
      "source": [
        "meteorites.name"
      ]
    },
    {
      "cell_type": "markdown",
      "id": "76dad962",
      "metadata": {
        "slideshow": {
          "slide_type": "subslide"
        },
        "tags": []
      },
      "source": [
        "#### Columns:"
      ]
    },
    {
      "cell_type": "code",
      "execution_count": null,
      "id": "b2200683",
      "metadata": {
        "tags": []
      },
      "outputs": [],
      "source": [
        "meteorites.columns"
      ]
    },
    {
      "cell_type": "markdown",
      "id": "2599ab71",
      "metadata": {
        "slideshow": {
          "slide_type": "fragment"
        },
        "tags": []
      },
      "source": [
        "#### Index:"
      ]
    },
    {
      "cell_type": "code",
      "execution_count": null,
      "id": "14a490c0",
      "metadata": {
        "tags": []
      },
      "outputs": [],
      "source": [
        "meteorites.index"
      ]
    },
    {
      "cell_type": "markdown",
      "id": "c0744d2a",
      "metadata": {
        "slideshow": {
          "slide_type": "slide"
        },
        "tags": []
      },
      "source": [
        "## Creating DataFrames\n",
        "\n",
        "We can create DataFrames from a variety of sources such as other Python objects, flat files, webscraping, and API requests. Here, we will see just a couple of examples, but be sure to check out [this page](https://pandas.pydata.org/pandas-docs/stable/user_guide/io.html) in the documentation for a complete list."
      ]
    },
    {
      "cell_type": "markdown",
      "id": "0162e1ec",
      "metadata": {
        "slideshow": {
          "slide_type": "subslide"
        },
        "tags": []
      },
      "source": [
        "### Using a flat file"
      ]
    },
    {
      "cell_type": "code",
      "execution_count": null,
      "id": "c6072295",
      "metadata": {},
      "outputs": [],
      "source": [
        "import pandas as pd\n",
        "\n",
        "meteorites = pd.read_csv('data/Meteorite_Landings.csv')"
      ]
    },
    {
      "cell_type": "markdown",
      "id": "3921c2bb",
      "metadata": {
        "slideshow": {
          "slide_type": "fragment"
        },
        "tags": []
      },
      "source": [
        "*Tip: There are many parameters to this function to handle some initial processing while reading in the file &ndash; be sure check out the [documentation](https://pandas.pydata.org/docs/reference/api/pandas.read_csv.html).*"
      ]
    },
    {
      "cell_type": "markdown",
      "id": "e8d0eb83",
      "metadata": {
        "slideshow": {
          "slide_type": "subslide"
        },
        "tags": []
      },
      "source": [
        "### Using data from an API\n",
        "\n",
        "Collect the data from [NASA's Open Data Portal](https://data.nasa.gov/Space-Science/Meteorite-Landings/gh4g-9sfh) using the Socrata Open Data API (SODA) with the `requests` library:"
      ]
    },
    {
      "cell_type": "code",
      "execution_count": null,
      "id": "9b6548d7",
      "metadata": {
        "tags": []
      },
      "outputs": [],
      "source": [
        "import requests\n",
        "\n",
        "response = requests.get(\n",
        "    'https://data.nasa.gov/resource/gh4g-9sfh.json',\n",
        "    params={'$limit': 50_000}\n",
        ")\n",
        "\n",
        "if response.ok:\n",
        "    payload = response.json()\n",
        "else:\n",
        "    print(f'Request was not successful and returned code: {response.status_code}.')\n",
        "    payload = None"
      ]
    },
    {
      "cell_type": "markdown",
      "id": "598ac67e",
      "metadata": {
        "slideshow": {
          "slide_type": "subslide"
        },
        "tags": []
      },
      "source": [
        "Create the DataFrame with the resulting payload:"
      ]
    },
    {
      "cell_type": "code",
      "execution_count": null,
      "id": "f9245aa3",
      "metadata": {},
      "outputs": [],
      "source": [
        "import pandas as pd\n",
        "\n",
        "df = pd.DataFrame(payload)\n",
        "df.head(3)"
      ]
    },
    {
      "cell_type": "markdown",
      "id": "615c124d",
      "metadata": {
        "slideshow": {
          "slide_type": "fragment"
        },
        "tags": []
      },
      "source": [
        "*Tip: `df.to_csv('data.csv')` writes this data to a new file called `data.csv`.*"
      ]
    },
    {
      "cell_type": "markdown",
      "id": "19151298",
      "metadata": {
        "slideshow": {
          "slide_type": "slide"
        },
        "tags": []
      },
      "source": [
        "## Inspecting the data\n",
        "Now that we have some data, we need to perform an initial inspection of it. This gives us information on what the data looks like, how many rows/columns there are, and how much data we have. "
      ]
    },
    {
      "cell_type": "markdown",
      "id": "0f3f9b15",
      "metadata": {
        "slideshow": {
          "slide_type": "fragment"
        },
        "tags": []
      },
      "source": [
        "Let's inspect the `meteorites` data."
      ]
    },
    {
      "cell_type": "markdown",
      "id": "cc5ec6a7",
      "metadata": {
        "slideshow": {
          "slide_type": "subslide"
        },
        "tags": []
      },
      "source": [
        "#### How many rows and columns are there?"
      ]
    },
    {
      "cell_type": "code",
      "execution_count": null,
      "id": "46467aab",
      "metadata": {},
      "outputs": [],
      "source": [
        "meteorites.shape"
      ]
    },
    {
      "cell_type": "markdown",
      "id": "3d1904dc",
      "metadata": {
        "slideshow": {
          "slide_type": "fragment"
        },
        "tags": []
      },
      "source": [
        "#### What are the column names?"
      ]
    },
    {
      "cell_type": "code",
      "execution_count": null,
      "id": "d468062f",
      "metadata": {},
      "outputs": [],
      "source": [
        "meteorites.columns"
      ]
    },
    {
      "cell_type": "markdown",
      "id": "76d0f64d",
      "metadata": {
        "slideshow": {
          "slide_type": "subslide"
        },
        "tags": []
      },
      "source": [
        "#### What type of data does each column currently hold?"
      ]
    },
    {
      "cell_type": "code",
      "execution_count": null,
      "id": "21f4d5f6",
      "metadata": {},
      "outputs": [],
      "source": [
        "meteorites.dtypes"
      ]
    },
    {
      "cell_type": "markdown",
      "id": "8aa4a54e",
      "metadata": {
        "slideshow": {
          "slide_type": "subslide"
        },
        "tags": []
      },
      "source": [
        "#### What does the data look like?"
      ]
    },
    {
      "cell_type": "code",
      "execution_count": null,
      "id": "4d7242ce",
      "metadata": {},
      "outputs": [],
      "source": [
        "meteorites.head()"
      ]
    },
    {
      "cell_type": "markdown",
      "id": "facc526b",
      "metadata": {
        "slideshow": {
          "slide_type": "subslide"
        },
        "tags": []
      },
      "source": [
        "Sometimes there may be extraneous data at the end of the file, so checking the bottom few rows is also important:"
      ]
    },
    {
      "cell_type": "code",
      "execution_count": null,
      "id": "2177b8c6",
      "metadata": {
        "tags": []
      },
      "outputs": [],
      "source": [
        "meteorites.tail()"
      ]
    },
    {
      "cell_type": "markdown",
      "id": "da42ec2b",
      "metadata": {
        "slideshow": {
          "slide_type": "subslide"
        },
        "tags": []
      },
      "source": [
        "#### Get some information about the DataFrame"
      ]
    },
    {
      "cell_type": "code",
      "execution_count": null,
      "id": "ace2cabf",
      "metadata": {},
      "outputs": [],
      "source": [
        "meteorites.info()"
      ]
    },
    {
      "cell_type": "markdown",
      "id": "e7129045",
      "metadata": {},
      "source": [
        "### Exercise 1.1\n",
        "\n",
        "##### Create a DataFrame by reading in the `2019_Yellow_Taxi_Trip_Data.csv` file. Examine the first 5 rows."
      ]
    },
    {
      "cell_type": "code",
      "execution_count": null,
      "id": "bc6d35a5",
      "metadata": {},
      "outputs": [],
      "source": [
        "# Complete exercise 1.1 in the workbook1.ipynb file\n",
        "\n",
        "# WARNING: if you complete the exercise here, your cell numbers\n",
        "# for the rest of the training might not match the slides"
      ]
    },
    {
      "cell_type": "markdown",
      "id": "1a5b9b3f",
      "metadata": {},
      "source": [
        "### Exercise 1.2\n",
        "\n",
        "##### Find the dimensions (number of rows and number of columns) in the data."
      ]
    },
    {
      "cell_type": "code",
      "execution_count": null,
      "id": "13897ab1",
      "metadata": {},
      "outputs": [],
      "source": [
        "# Complete exercise 1.2 in the workbook1.ipynb file\n",
        "\n",
        "# WARNING: if you complete the exercise here, your cell numbers\n",
        "# for the rest of the training might not match the slides"
      ]
    },
    {
      "cell_type": "markdown",
      "id": "c152c25c",
      "metadata": {
        "slideshow": {
          "slide_type": "slide"
        },
        "tags": []
      },
      "source": [
        "## Extracting subsets\n",
        "\n",
        "A crucial part of working with DataFrames is extracting subsets of the data: finding rows that meet a certain set of criteria, isolating columns/rows of interest, etc. After narrowing down our data, we are closer to discovering insights. This section will be the backbone of many analysis tasks."
      ]
    },
    {
      "cell_type": "markdown",
      "id": "af18fee1",
      "metadata": {
        "slideshow": {
          "slide_type": "subslide"
        },
        "tags": []
      },
      "source": [
        "#### Selecting columns\n",
        "\n",
        "We can select columns as attributes if their names would be valid Python variables:"
      ]
    },
    {
      "cell_type": "code",
      "execution_count": null,
      "id": "d3404370",
      "metadata": {},
      "outputs": [],
      "source": [
        "meteorites.name"
      ]
    },
    {
      "cell_type": "markdown",
      "id": "67afa34b",
      "metadata": {
        "slideshow": {
          "slide_type": "subslide"
        },
        "tags": []
      },
      "source": [
        "If they aren't, we have to select them as keys. However, we can select multiple columns at once this way:"
      ]
    },
    {
      "cell_type": "code",
      "execution_count": null,
      "id": "bb3a37ae",
      "metadata": {},
      "outputs": [],
      "source": [
        "meteorites[['name', 'mass (g)']]"
      ]
    },
    {
      "cell_type": "markdown",
      "id": "8d66f6ba",
      "metadata": {
        "slideshow": {
          "slide_type": "subslide"
        },
        "tags": []
      },
      "source": [
        "#### Selecting rows"
      ]
    },
    {
      "cell_type": "code",
      "execution_count": null,
      "id": "5169f056",
      "metadata": {},
      "outputs": [],
      "source": [
        "meteorites[100:104]"
      ]
    },
    {
      "cell_type": "markdown",
      "id": "9a023d86",
      "metadata": {
        "slideshow": {
          "slide_type": "subslide"
        },
        "tags": []
      },
      "source": [
        "#### Indexing\n",
        "\n",
        "We use `iloc[]` to select rows and columns by their position:"
      ]
    },
    {
      "cell_type": "code",
      "execution_count": null,
      "id": "e912c6df",
      "metadata": {},
      "outputs": [],
      "source": [
        "meteorites.iloc[100:104, [0, 3, 4, 6]]"
      ]
    },
    {
      "cell_type": "markdown",
      "id": "7953d7f9",
      "metadata": {
        "slideshow": {
          "slide_type": "fragment"
        },
        "tags": []
      },
      "source": [
        "We use `loc[]` to select by name:"
      ]
    },
    {
      "cell_type": "code",
      "execution_count": null,
      "id": "05d99332",
      "metadata": {},
      "outputs": [],
      "source": [
        "meteorites.loc[100:104, 'mass (g)':'year']"
      ]
    },
    {
      "cell_type": "markdown",
      "id": "2d44c08b",
      "metadata": {
        "slideshow": {
          "slide_type": "subslide"
        },
        "tags": []
      },
      "source": [
        "#### Filtering with Boolean masks\n",
        "\n",
        "A **Boolean mask** is a array-like structure of Boolean values &ndash; it's a way to specify which rows/columns we want to select (`True`) and which we don't (`False`)."
      ]
    },
    {
      "cell_type": "markdown",
      "id": "0d28d532",
      "metadata": {
        "slideshow": {
          "slide_type": "subslide"
        },
        "tags": []
      },
      "source": [
        "Here's an example of a Boolean mask for meteorites weighing more than 50 grams that were found on Earth (i.e., they were not observed falling):"
      ]
    },
    {
      "cell_type": "code",
      "execution_count": null,
      "id": "cff39920",
      "metadata": {},
      "outputs": [],
      "source": [
        "(meteorites['mass (g)'] > 50) & (meteorites.fall == 'Found')"
      ]
    },
    {
      "cell_type": "markdown",
      "id": "9df7632d",
      "metadata": {
        "slideshow": {
          "slide_type": "fragment"
        },
        "tags": []
      },
      "source": [
        "**Important**: Take note of the syntax here. We surround each condition with parentheses, and we use bitwise operators (`&`, `|`, `~`) instead of logical operators (`and`, `or`, `not`)."
      ]
    },
    {
      "cell_type": "markdown",
      "id": "7f378b66",
      "metadata": {
        "slideshow": {
          "slide_type": "subslide"
        },
        "tags": []
      },
      "source": [
        "We can use a Boolean mask to select the subset of meteorites weighing more than 1 million grams (1,000 kilograms or roughly 2,205 pounds) that were observed falling:"
      ]
    },
    {
      "cell_type": "code",
      "execution_count": null,
      "id": "1a9365be",
      "metadata": {},
      "outputs": [],
      "source": [
        "meteorites[(meteorites['mass (g)'] > 1e6) & (meteorites.fall == 'Fell')]"
      ]
    },
    {
      "cell_type": "markdown",
      "id": "68fc5fd1",
      "metadata": {
        "slideshow": {
          "slide_type": "fragment"
        },
        "tags": []
      },
      "source": [
        "*Tip: Boolean masks can be used with `loc[]` and `iloc[]`.*"
      ]
    },
    {
      "cell_type": "markdown",
      "id": "6d4eb18b",
      "metadata": {
        "slideshow": {
          "slide_type": "subslide"
        },
        "tags": []
      },
      "source": [
        "An alternative to this is the `query()` method:"
      ]
    },
    {
      "cell_type": "code",
      "execution_count": null,
      "id": "05e0ace7",
      "metadata": {},
      "outputs": [],
      "source": [
        "meteorites.query(\"`mass (g)` > 1e6 and fall == 'Fell'\")"
      ]
    },
    {
      "cell_type": "markdown",
      "id": "4a8c916c",
      "metadata": {
        "slideshow": {
          "slide_type": "fragment"
        },
        "tags": []
      },
      "source": [
        "*Tip: Here, we can use both logical operators and bitwise operators.*"
      ]
    },
    {
      "cell_type": "markdown",
      "id": "f2ed0617",
      "metadata": {
        "slideshow": {
          "slide_type": "slide"
        },
        "tags": []
      },
      "source": [
        "## Calculating summary statistics\n",
        "\n",
        "In the next section of this workshop, we will discuss data cleaning for a more meaningful analysis of our datasets; however, we can already extract some interesting insights from the `meteorites` data by calculating summary statistics."
      ]
    },
    {
      "cell_type": "markdown",
      "id": "1f962119",
      "metadata": {
        "slideshow": {
          "slide_type": "subslide"
        },
        "tags": []
      },
      "source": [
        "#### How many of the meteorites were found versus observed falling?"
      ]
    },
    {
      "cell_type": "code",
      "execution_count": null,
      "id": "5b75468f",
      "metadata": {},
      "outputs": [],
      "source": [
        "meteorites.fall.value_counts()"
      ]
    },
    {
      "cell_type": "markdown",
      "id": "4a48550a",
      "metadata": {
        "slideshow": {
          "slide_type": "fragment"
        },
        "tags": []
      },
      "source": [
        "*Tip: Pass in `normalize=True` to see this result as percentages. Check the [documentation](https://pandas.pydata.org/docs/reference/api/pandas.Series.value_counts.html) for additional functionality.*"
      ]
    },
    {
      "cell_type": "markdown",
      "id": "ca6ca95f",
      "metadata": {
        "slideshow": {
          "slide_type": "subslide"
        },
        "tags": []
      },
      "source": [
        "#### What was the mass of the average meterorite?"
      ]
    },
    {
      "cell_type": "code",
      "execution_count": null,
      "id": "5f184eee",
      "metadata": {},
      "outputs": [],
      "source": [
        "meteorites['mass (g)'].median()"
      ]
    },
    {
      "cell_type": "markdown",
      "id": "173918d9",
      "metadata": {
        "slideshow": {
          "slide_type": "fragment"
        },
        "tags": []
      },
      "source": [
        "We can take this a step further and look at quantiles:"
      ]
    },
    {
      "cell_type": "code",
      "execution_count": null,
      "id": "840d60c6",
      "metadata": {},
      "outputs": [],
      "source": [
        "meteorites['mass (g)'].quantile([0.01, 0.05, 0.95, 0.99])"
      ]
    },
    {
      "cell_type": "markdown",
      "id": "e892e599",
      "metadata": {
        "slideshow": {
          "slide_type": "subslide"
        },
        "tags": []
      },
      "source": [
        "#### What was the mass of the heaviest meteorite?"
      ]
    },
    {
      "cell_type": "code",
      "execution_count": null,
      "id": "ff715387",
      "metadata": {},
      "outputs": [],
      "source": [
        "meteorites['mass (g)'].max()"
      ]
    },
    {
      "cell_type": "markdown",
      "id": "982a2722",
      "metadata": {
        "slideshow": {
          "slide_type": "fragment"
        },
        "tags": []
      },
      "source": [
        "Let's extract the information on this meteorite:"
      ]
    },
    {
      "cell_type": "code",
      "execution_count": null,
      "id": "ba4da483",
      "metadata": {},
      "outputs": [],
      "source": [
        "meteorites.loc[meteorites['mass (g)'].idxmax()]"
      ]
    },
    {
      "cell_type": "markdown",
      "id": "758b46a3",
      "metadata": {
        "slideshow": {
          "slide_type": "subslide"
        },
        "tags": []
      },
      "source": [
        "#### How many different types of meteorite classes are represented in this dataset?"
      ]
    },
    {
      "cell_type": "code",
      "execution_count": null,
      "id": "93b85a23",
      "metadata": {},
      "outputs": [],
      "source": [
        "meteorites.recclass.nunique()"
      ]
    },
    {
      "cell_type": "markdown",
      "id": "392d33cb",
      "metadata": {
        "slideshow": {
          "slide_type": "fragment"
        },
        "tags": []
      },
      "source": [
        "Some examples:"
      ]
    },
    {
      "cell_type": "code",
      "execution_count": null,
      "id": "e674f59d",
      "metadata": {},
      "outputs": [],
      "source": [
        "meteorites.recclass.unique()[:14]"
      ]
    },
    {
      "cell_type": "markdown",
      "id": "8ef97b69",
      "metadata": {},
      "source": [
        "*Note: All fields preceded with \"rec\" are the values recommended by The Meteoritical Society. Check out [this Wikipedia article](https://en.wikipedia.org/wiki/Meteorite_classification) for some information on meteorite classes.*"
      ]
    },
    {
      "cell_type": "markdown",
      "id": "c78c0771",
      "metadata": {
        "slideshow": {
          "slide_type": "subslide"
        },
        "tags": []
      },
      "source": [
        "#### Get some summary statistics on the data itself\n",
        "We can get common summary statistics for all columns at once. By default, this will only be numeric columns, but here, we will summarize everything together:"
      ]
    },
    {
      "cell_type": "code",
      "execution_count": null,
      "id": "b262de62",
      "metadata": {},
      "outputs": [],
      "source": [
        "meteorites.describe(include='all')"
      ]
    },
    {
      "cell_type": "markdown",
      "id": "2b6536f1",
      "metadata": {},
      "source": [
        "**Important**: `NaN` values signify missing data. For instance, the `fall` column contains strings, so there is no value for `mean`; likewise, `mass (g)` is numeric, so we don't have entries for the categorical summary statistics (`unique`, `top`, `freq`)."
      ]
    },
    {
      "cell_type": "markdown",
      "id": "9feb64d2",
      "metadata": {
        "slideshow": {
          "slide_type": "subslide"
        },
        "tags": []
      },
      "source": [
        "#### Check out the documentation for more descriptive statistics:\n",
        "\n",
        "- [Series](https://pandas.pydata.org/docs/reference/series.html#computations-descriptive-stats)\n",
        "- [DataFrame](https://pandas.pydata.org/docs/reference/frame.html#computations-descriptive-stats)"
      ]
    },
    {
      "cell_type": "markdown",
      "id": "15340e3c",
      "metadata": {},
      "source": [
        "### Exercise 1.3\n",
        "\n",
        "##### Using the data in the `2019_Yellow_Taxi_Trip_Data.csv` file, calculate summary statistics for the `fare_amount`, `tip_amount`, `tolls_amount`, and `total_amount` columns."
      ]
    },
    {
      "cell_type": "code",
      "execution_count": null,
      "id": "da770094",
      "metadata": {},
      "outputs": [],
      "source": [
        "# Complete exercise 1.3 in the workbook1.ipynb file"
      ]
    },
    {
      "cell_type": "markdown",
      "id": "31912168",
      "metadata": {},
      "source": [
        "### Exercise 1.4\n",
        "\n",
        "##### Find the dimensions (number of rows and number of columns) in the data."
      ]
    },
    {
      "cell_type": "code",
      "execution_count": null,
      "id": "87c9881b",
      "metadata": {},
      "outputs": [],
      "source": [
        "# Complete exercise 1.4 in the workbook.ipynb file"
      ]
    }
  ],
  "metadata": {
    "kernelspec": {
      "display_name": "Python 3 (ipykernel)",
      "language": "python",
      "name": "python3"
    }
  },
  "nbformat": 4,
  "nbformat_minor": 5
}
