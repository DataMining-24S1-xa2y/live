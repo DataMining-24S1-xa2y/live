{
  "cells": [
    {
      "cell_type": "markdown",
      "id": "132467c2",
      "metadata": {
        "tags": []
      },
      "source": [
        "# Workbook\n",
        "\n",
        "Use this notebook to complete the exercises throughout the workshop.\n",
        "\n",
        "#### Table of Contents\n",
        "- [Section 1 &ndash; Getting Started with Pandas](#Section-1)\n",
        "- [Section 2 &ndash; Data Wrangling](#Section-2)\n",
        "- [Section 3 &ndash; Data Visualization](#Section-3)\n",
        "\n",
        "--- \n",
        "\n",
        "### Section 1\n",
        "\n",
        "#### Exercise 1.1\n",
        "##### Create a DataFrame by reading in the `2019_Yellow_Taxi_Trip_Data.csv` file. Examine the first 5 rows."
      ]
    },
    {
      "cell_type": "code",
      "execution_count": null,
      "id": "231aeee6",
      "metadata": {},
      "outputs": [],
      "source": []
    },
    {
      "cell_type": "markdown",
      "id": "4d8506cc",
      "metadata": {},
      "source": [
        "#### Exercise 1.2\n",
        "##### Find the dimensions (number of rows and number of columns) in the data."
      ]
    },
    {
      "cell_type": "code",
      "execution_count": null,
      "id": "4b505839",
      "metadata": {},
      "outputs": [],
      "source": []
    },
    {
      "cell_type": "markdown",
      "id": "2e4a99d1",
      "metadata": {
        "tags": []
      },
      "source": [
        "#### Exercise 1.3\n",
        "##### Using the data in the `2019_Yellow_Taxi_Trip_Data.csv` file, calculate summary statistics for the `fare_amount`, `tip_amount`, `tolls_amount`, and `total_amount` columns."
      ]
    },
    {
      "cell_type": "code",
      "execution_count": null,
      "id": "5c3ad863",
      "metadata": {},
      "outputs": [],
      "source": []
    },
    {
      "cell_type": "markdown",
      "id": "e05c6239",
      "metadata": {
        "tags": []
      },
      "source": [
        "#### Exercise 1.4\n",
        "##### Isolate the `fare_amount`, `tip_amount`, `tolls_amount`, and `total_amount` for the longest trip by distance (`trip_distance`)."
      ]
    },
    {
      "cell_type": "code",
      "execution_count": null,
      "id": "cf4146f8",
      "metadata": {},
      "outputs": [],
      "source": []
    },
    {
      "cell_type": "markdown",
      "id": "4aed0288",
      "metadata": {},
      "source": [
        "---\n",
        "\n",
        "### Section 2\n",
        "\n",
        "#### Exercise 2.1\n",
        "##### Read in the meteorite data from the `Meteorite_Landings.csv` file, rename the `mass (g)` column to `mass`, and drop all the latitude and longitude columns. Sort the result by mass in descending order."
      ]
    },
    {
      "cell_type": "code",
      "execution_count": null,
      "id": "c1285fcb",
      "metadata": {},
      "outputs": [],
      "source": []
    },
    {
      "cell_type": "markdown",
      "id": "cf8f99de",
      "metadata": {},
      "source": [
        "#### Exercise 2.2\n",
        "##### Using the meteorite data from the `Meteorite_Landings.csv` file, update the `year` column to only contain the year, convert it to a numeric data type, and create a new column indicating whether the meteorite was observed falling before 1970. Set the index to the `id` column and extract all the rows with IDs between 10,036 and 10,040 (inclusive) with `loc[]`.\n",
        "\n",
        "###### **Hint 1**: Use `year.str.slice()` to grab a substring.\n",
        "\n",
        "###### **Hint 2**: Make sure to sort the index before using `loc[]` to select the range.\n",
        "\n",
        "###### **Bonus**: There's a data entry error in the `year` column. Can you find it? (Don't spend too much time on this.)"
      ]
    },
    {
      "cell_type": "code",
      "execution_count": null,
      "id": "a5a6da40",
      "metadata": {},
      "outputs": [],
      "source": []
    },
    {
      "cell_type": "markdown",
      "id": "34a3b10e",
      "metadata": {},
      "source": [
        "#### Exercise 2.3\n",
        "##### Using the meteorite data from the `Meteorite_Landings.csv` file, create a pivot table that shows both the number of meteorites and the 95th percentile of meteorite mass for those that were found versus observed falling per year from 2005 through 2009 (inclusive). Hint: Be sure to convert the `year` column to a number as we did in the previous exercise."
      ]
    },
    {
      "cell_type": "code",
      "execution_count": null,
      "id": "91b7a2f9",
      "metadata": {},
      "outputs": [],
      "source": []
    },
    {
      "cell_type": "markdown",
      "id": "233e328f",
      "metadata": {},
      "source": [
        "--- \n",
        "\n",
        "### Section 3\n",
        "\n",
        "#### Exercise 3.1\n",
        "##### Using the TSA traveler throughput data in the `tsa_melted_holiday_travel.csv` file, create box plots for traveler throughput for each year in the data. Hint: Pass `kind='box'` into the `plot()` method to generate box plots."
      ]
    },
    {
      "cell_type": "code",
      "execution_count": null,
      "id": "f2c56c09",
      "metadata": {},
      "outputs": [],
      "source": []
    },
    {
      "cell_type": "markdown",
      "id": "71749e76",
      "metadata": {},
      "source": [
        "#### Exercise 3.2\n",
        "##### Using the TSA traveler throughput data in the `tsa_melted_holiday_travel.csv` file, create a heatmap that shows the 2019 TSA median traveler throughput by day of week and month."
      ]
    },
    {
      "cell_type": "code",
      "execution_count": null,
      "id": "a3d686f5",
      "metadata": {},
      "outputs": [],
      "source": []
    },
    {
      "cell_type": "markdown",
      "id": "028df98b",
      "metadata": {},
      "source": [
        "#### Exercise 3.3\n",
        "##### Annotate the medians in the box plot from *[Exercise 3.1](#Exercise-3.1)*. Hint: The `x` coordinates will be 1, 2, and 3 for 2019, 2020, and 2021, respectively. Alternatively, to avoid hardcoding values, you can use the `Axes.get_xticklabels()` method, in which case you should look at the [documentation](https://matplotlib.org/stable/api/text_api.html) for the `Text` class."
      ]
    },
    {
      "cell_type": "code",
      "execution_count": null,
      "id": "f4bf82bb",
      "metadata": {},
      "outputs": [],
      "source": []
    }
  ],
  "metadata": {
    "kernelspec": {
      "display_name": "Python 3 (ipykernel)",
      "language": "python",
      "name": "python3"
    }
  },
  "nbformat": 4,
  "nbformat_minor": 5
}
