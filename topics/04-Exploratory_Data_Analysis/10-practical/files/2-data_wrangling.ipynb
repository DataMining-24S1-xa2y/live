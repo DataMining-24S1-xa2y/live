{
  "cells": [
    {
      "cell_type": "markdown",
      "id": "9e83a9b7",
      "metadata": {
        "slideshow": {
          "slide_type": "slide"
        }
      },
      "source": [
        "# Section 2: Data Wrangling\n",
        "\n",
        "To prepare our data for analysis, we need to perform data wrangling. In this section, we will learn how to clean and reformat data (e.g., renaming columns and fixing data type mismatches), restructure/reshape it, and enrich it (e.g., discretizing columns, calculating aggregations, and combining data sources)."
      ]
    },
    {
      "cell_type": "markdown",
      "id": "8e668384",
      "metadata": {
        "slideshow": {
          "slide_type": "slide"
        }
      },
      "source": [
        "## Data cleaning\n",
        "\n",
        "In this section, we will take a look at creating, renaming, and dropping columns; type conversion; and sorting &ndash; all of which make our analysis easier. We will be working with the 2019 Yellow Taxi Trip Data provided by NYC Open Data."
      ]
    },
    {
      "cell_type": "code",
      "execution_count": null,
      "id": "f5dd9f16",
      "metadata": {},
      "outputs": [],
      "source": [
        "import pandas as pd\n",
        "\n",
        "taxis = pd.read_csv('data/2019_Yellow_Taxi_Trip_Data.csv')\n",
        "taxis.head()"
      ]
    },
    {
      "cell_type": "markdown",
      "id": "eb65b653",
      "metadata": {},
      "source": [
        "*Source: [NYC Open Data](https://data.cityofnewyork.us/Transportation/2019-Yellow-Taxi-Trip-Data/2upf-qytp) collected via [SODA](https://dev.socrata.com/foundry/data.cityofnewyork.us/2upf-qytp).*"
      ]
    },
    {
      "cell_type": "markdown",
      "id": "c446d8cf",
      "metadata": {
        "slideshow": {
          "slide_type": "subslide"
        }
      },
      "source": [
        "### Dropping columns\n",
        "Let's start by dropping the ID columns and the `store_and_fwd_flag` column, which we won't be using."
      ]
    },
    {
      "cell_type": "code",
      "execution_count": null,
      "id": "85890d0e",
      "metadata": {
        "slideshow": {
          "slide_type": "fragment"
        }
      },
      "outputs": [],
      "source": [
        "mask = taxis.columns.str.contains('id$|store_and_fwd_flag', regex=True)\n",
        "columns_to_drop = taxis.columns[mask]\n",
        "columns_to_drop"
      ]
    },
    {
      "cell_type": "code",
      "execution_count": null,
      "id": "584fc8ec",
      "metadata": {
        "slideshow": {
          "slide_type": "subslide"
        }
      },
      "outputs": [],
      "source": [
        "taxis = taxis.drop(columns=columns_to_drop)\n",
        "taxis.head()"
      ]
    },
    {
      "cell_type": "markdown",
      "id": "c21db6da",
      "metadata": {
        "slideshow": {
          "slide_type": "fragment"
        }
      },
      "source": [
        "*Tip: Another way to do this is to select the columns we want to keep: `taxis.loc[:,~mask]`.*"
      ]
    },
    {
      "cell_type": "markdown",
      "id": "38d28fb3",
      "metadata": {
        "slideshow": {
          "slide_type": "subslide"
        }
      },
      "source": [
        "### Renaming columns\n",
        "\n",
        "Next, let's rename the datetime columns:"
      ]
    },
    {
      "cell_type": "code",
      "execution_count": null,
      "id": "c9d8386e",
      "metadata": {},
      "outputs": [],
      "source": [
        "taxis.rename(\n",
        "    columns={\n",
        "        'tpep_pickup_datetime': 'pickup', \n",
        "        'tpep_dropoff_datetime': 'dropoff'\n",
        "    },\n",
        "    inplace=True\n",
        ")\n",
        "taxis.columns"
      ]
    },
    {
      "cell_type": "markdown",
      "id": "ca490c1a",
      "metadata": {
        "slideshow": {
          "slide_type": "fragment"
        }
      },
      "source": [
        "**Important**: This operation was performed in-place &ndash; be careful with in-place operations."
      ]
    },
    {
      "cell_type": "markdown",
      "id": "e02aa7fd",
      "metadata": {
        "slideshow": {
          "slide_type": "subslide"
        }
      },
      "source": [
        "### Type conversion\n",
        "\n",
        "Notice anything off with the data types?"
      ]
    },
    {
      "cell_type": "code",
      "execution_count": null,
      "id": "0095d3c7",
      "metadata": {},
      "outputs": [],
      "source": [
        "pickupYear = taxis['pickup'].str.slice(start=0, stop=4)\n",
        "taxis.dtypes"
      ]
    },
    {
      "cell_type": "code",
      "execution_count": null,
      "id": "84809a44",
      "metadata": {},
      "outputs": [],
      "source": [
        "# The following no longer seems to work!\n",
        "#taxis.loc[:, ['pickup', 'dropoff']] = \\\n",
        "#taxis.loc[:, ['pickup', 'dropoff']].apply(pd.to_datetime,format='%Y-%m-%dT%H:%M:%S.000')\n",
        "\n",
        "# Replacing with \n",
        "taxis['pickup']= pd.to_datetime(taxis['pickup'])\n",
        "taxis['dropoff']= pd.to_datetime(taxis['dropoff'])\n",
        "taxis.dtypes"
      ]
    },
    {
      "cell_type": "markdown",
      "id": "1c044cc7",
      "metadata": {},
      "source": [
        "*Tip: There are other ways to perform type conversion. For numeric values, we can use the `pd.to_numeric()` function, and we will see the `astype()` method, which is a more generic method, a little later.*"
      ]
    },
    {
      "cell_type": "markdown",
      "id": "48eeca1a",
      "metadata": {
        "slideshow": {
          "slide_type": "subslide"
        }
      },
      "source": [
        "### Creating new columns\n",
        "\n",
        "Let's calculate the following for each row:\n",
        "\n",
        "1. elapsed time of the trip\n",
        "2. the tip percentage\n",
        "3. the total taxes, tolls, fees, and surcharges\n",
        "4. the average speed of the taxi"
      ]
    },
    {
      "cell_type": "code",
      "execution_count": null,
      "id": "7ce734c0",
      "metadata": {
        "slideshow": {
          "slide_type": "fragment"
        }
      },
      "outputs": [],
      "source": [
        "taxis = taxis.assign(\n",
        "    elapsed_time=lambda x: x.dropoff - x.pickup, # 1\n",
        "    cost_before_tip=lambda x: x.total_amount - x.tip_amount,\n",
        "    tip_pct=lambda x: x.tip_amount / x.cost_before_tip, # 2\n",
        "    fees=lambda x: x.cost_before_tip - x.fare_amount, # 3\n",
        "    avg_speed=lambda x: x.trip_distance.div(\n",
        "        x.elapsed_time.dt.total_seconds() / 60 / 60\n",
        "    ) # 4\n",
        ")"
      ]
    },
    {
      "cell_type": "markdown",
      "id": "307ea039",
      "metadata": {},
      "source": [
        "*Tip: New to `lambda` functions? These small, anonymous functions can receive multiple arguments, but can only contain one expression (the return value). You will see these a lot in pandas code. Read more about them [here](https://realpython.com/python-lambda/).*"
      ]
    },
    {
      "cell_type": "markdown",
      "id": "e3a094d7",
      "metadata": {
        "slideshow": {
          "slide_type": "subslide"
        }
      },
      "source": [
        "Our new columns get added to the right:"
      ]
    },
    {
      "cell_type": "code",
      "execution_count": null,
      "id": "f613f43b",
      "metadata": {},
      "outputs": [],
      "source": [
        "taxis.head(2)"
      ]
    },
    {
      "cell_type": "markdown",
      "id": "cbcb73dd",
      "metadata": {
        "slideshow": {
          "slide_type": "fragment"
        }
      },
      "source": [
        "Some things to note:\n",
        "- We used `lambda` functions to 1) avoid typing `taxis` repeatedly and 2) be able to access the `cost_before_tip` and `elapsed_time` columns in the same method that we create them.\n",
        "- To create a single new column, we can also use `df['new_col'] = <values>`."
      ]
    },
    {
      "cell_type": "markdown",
      "id": "52809165",
      "metadata": {
        "slideshow": {
          "slide_type": "subslide"
        }
      },
      "source": [
        "### Sorting by values\n",
        "\n",
        "We can use the `sort_values()` method to sort based on any number of columns:"
      ]
    },
    {
      "cell_type": "code",
      "execution_count": null,
      "id": "a4106caf",
      "metadata": {},
      "outputs": [],
      "source": [
        "taxis.sort_values(['passenger_count', 'pickup'], ascending=[False, True]).head()"
      ]
    },
    {
      "cell_type": "markdown",
      "id": "aa9e3c62",
      "metadata": {
        "slideshow": {
          "slide_type": "subslide"
        }
      },
      "source": [
        "To pick out the largest/smallest rows, use `nlargest()` / `nsmallest()` instead. Looking at the 3 trips with the longest elapsed time, we see some possible data integrity issues:"
      ]
    },
    {
      "cell_type": "code",
      "execution_count": null,
      "id": "a3a8ac58",
      "metadata": {},
      "outputs": [],
      "source": [
        "taxis.nlargest(3, 'elapsed_time')"
      ]
    },
    {
      "cell_type": "markdown",
      "id": "ff563166",
      "metadata": {},
      "source": [
        "### Exercise 2.1\n",
        "\n",
        "##### Read in the meteorite data from the `Meteorite_Landings.csv` file, rename the `mass (g)` column to `mass`, and drop all the latitude and longitude columns. Sort the result by mass in descending order."
      ]
    },
    {
      "cell_type": "code",
      "execution_count": null,
      "id": "a9bb1bc0",
      "metadata": {},
      "outputs": [],
      "source": [
        "# Complete exercise 2.1 in the workbook.ipynb file\n",
        "\n",
        "# WARNING: if you complete the exercise here, your cell numbers\n",
        "# for the rest of the training might not match the slides"
      ]
    },
    {
      "cell_type": "markdown",
      "id": "8fa85c22",
      "metadata": {
        "slideshow": {
          "slide_type": "slide"
        }
      },
      "source": [
        "## Working with the index\n",
        "\n",
        "So far, we haven't really worked with the index because it's just been a row number; however, we can change the values we have in the index to access additional features of the pandas library."
      ]
    },
    {
      "cell_type": "markdown",
      "id": "b8b6a95e",
      "metadata": {
        "slideshow": {
          "slide_type": "subslide"
        }
      },
      "source": [
        "### Setting and sorting the index\n",
        "\n",
        "Currently, we have a RangeIndex, but we can switch to a DatetimeIndex by specifying a datetime column when calling `set_index()`:"
      ]
    },
    {
      "cell_type": "code",
      "execution_count": null,
      "id": "3bbb7097",
      "metadata": {},
      "outputs": [],
      "source": [
        "taxis.set_index('pickup', inplace=True)\n",
        "taxis.head(3)"
      ]
    },
    {
      "cell_type": "markdown",
      "id": "45cb8656",
      "metadata": {
        "slideshow": {
          "slide_type": "subslide"
        }
      },
      "source": [
        "Since we have a sample of the full dataset, let's sort the index to order by pickup time:"
      ]
    },
    {
      "cell_type": "code",
      "execution_count": null,
      "id": "945766bd",
      "metadata": {},
      "outputs": [],
      "source": [
        "taxis.sort_index(inplace=True)"
      ]
    },
    {
      "cell_type": "markdown",
      "id": "a31db48f",
      "metadata": {
        "slideshow": {
          "slide_type": "fragment"
        }
      },
      "source": [
        "*Tip: `taxis.sort_index(axis=1)` will sort the columns by name. The `axis` parameter is present throughout the pandas library: `axis=0` targets rows and `axis=1` targets columns.*"
      ]
    },
    {
      "cell_type": "markdown",
      "id": "8fce315b",
      "metadata": {
        "slideshow": {
          "slide_type": "subslide"
        }
      },
      "source": [
        "We can now select ranges from our data based on the datetime the same way we did with row numbers:"
      ]
    },
    {
      "cell_type": "code",
      "execution_count": null,
      "id": "14d2c212",
      "metadata": {},
      "outputs": [],
      "source": [
        "taxis['2019-10-23 07:45':'2019-10-23 08']"
      ]
    },
    {
      "cell_type": "markdown",
      "id": "9d460b2d",
      "metadata": {
        "slideshow": {
          "slide_type": "subslide"
        }
      },
      "source": [
        "When not specifying a range, we use `loc[]`:"
      ]
    },
    {
      "cell_type": "code",
      "execution_count": null,
      "id": "cfc5f3bd",
      "metadata": {},
      "outputs": [],
      "source": [
        "taxis.loc['2019-10-23 08']"
      ]
    },
    {
      "cell_type": "markdown",
      "id": "b79281f4",
      "metadata": {
        "slideshow": {
          "slide_type": "subslide"
        }
      },
      "source": [
        "### Resetting the index\n",
        "\n",
        "We will be working with time series later this section, but sometimes we want to reset our index to row numbers and restore the columns. We can make `pickup` a column again with the `reset_index()` method:"
      ]
    },
    {
      "cell_type": "code",
      "execution_count": null,
      "id": "883fcaf1",
      "metadata": {},
      "outputs": [],
      "source": [
        "taxis.reset_index(inplace=True)\n",
        "taxis.head()"
      ]
    },
    {
      "cell_type": "markdown",
      "id": "911b0e97",
      "metadata": {
        "lines_to_next_cell": 2
      },
      "source": [
        "### Exercise 2.2\n",
        "\n",
        "##### Using the meteorite data from the `Meteorite_Landings.csv` file, update the `year` column to only contain the year, convert it to a numeric data type, and create a new column indicating whether the meteorite was observed falling before 1970. Set the index to the `id` column and extract all the rows with IDs between 10,036 and 10,040 (inclusive) with `loc[]`.\n",
        "\n",
        "###### **Hint 1**: Use `year.str.slice()` to grab a substring.\n",
        "\n",
        "###### **Hint 2**: Make sure to sort the index before using `loc[]` to select the range.\n",
        "\n",
        "###### **Bonus**: There's a data entry error in the `year` column. Can you find it? (Don't spend too much time on this.)"
      ]
    },
    {
      "cell_type": "code",
      "execution_count": null,
      "id": "0214066a",
      "metadata": {},
      "outputs": [],
      "source": [
        "# Complete exercise 2.2 in the workbook.ipynb file"
      ]
    },
    {
      "cell_type": "code",
      "execution_count": null,
      "id": "11621a52",
      "metadata": {},
      "outputs": [],
      "source": [
        "# Click on `Exercise 2.2` above to open the workbook.ipynb file"
      ]
    },
    {
      "cell_type": "code",
      "execution_count": null,
      "id": "c0a32ba6",
      "metadata": {},
      "outputs": [],
      "source": [
        "# WARNING: if you complete the exercise here, your cell numbers\n",
        "# for the rest of the training might not match the slides"
      ]
    },
    {
      "cell_type": "markdown",
      "id": "1192c422",
      "metadata": {
        "slideshow": {
          "slide_type": "slide"
        }
      },
      "source": [
        "## Reshaping data\n",
        "\n",
        "The taxi dataset we have be working with is in a format conducive to an analysis. This isn't always the case. Let's now take a look at the TSA traveler throughput data, which compares 2021 throughput to the same day in 2020 and 2019:"
      ]
    },
    {
      "cell_type": "code",
      "execution_count": null,
      "id": "bbeb883e",
      "metadata": {
        "slideshow": {
          "slide_type": "fragment"
        }
      },
      "outputs": [],
      "source": [
        "tsa = pd.read_csv('data/tsa_passenger_throughput.csv', parse_dates=['Date'])\n",
        "tsa.head()"
      ]
    },
    {
      "cell_type": "markdown",
      "id": "e2c421e2",
      "metadata": {},
      "source": [
        "*Source: [TSA.gov](https://www.tsa.gov/coronavirus/passenger-throughput)*"
      ]
    },
    {
      "cell_type": "markdown",
      "id": "c6bdda81",
      "metadata": {
        "slideshow": {
          "slide_type": "subslide"
        }
      },
      "source": [
        "First, we will lowercase the column names and take the first word (e.g., `2021` for `2021 Traveler Throughput`) to make this easier to work with:"
      ]
    },
    {
      "cell_type": "code",
      "execution_count": null,
      "id": "072948cd",
      "metadata": {},
      "outputs": [],
      "source": [
        "tsa = tsa.rename(columns=lambda x: x.lower().split()[0])\n",
        "tsa.head()"
      ]
    },
    {
      "cell_type": "markdown",
      "id": "168c2560",
      "metadata": {
        "slideshow": {
          "slide_type": "fragment"
        }
      },
      "source": [
        "Now, we can work on reshaping it."
      ]
    },
    {
      "cell_type": "markdown",
      "id": "9f285f45",
      "metadata": {
        "slideshow": {
          "slide_type": "subslide"
        }
      },
      "source": [
        "### Melting\n",
        "\n",
        "Melting helps convert our data into long format. Now, we have all the traveler throughput numbers in a single column:"
      ]
    },
    {
      "cell_type": "code",
      "execution_count": null,
      "id": "60d6fdbb",
      "metadata": {},
      "outputs": [],
      "source": [
        "tsa_melted = tsa.melt(\n",
        "    id_vars='date', # column that uniquely identifies a row (can be multiple)\n",
        "    var_name='year', # name for the new column created by melting\n",
        "    value_name='travelers' # name for new column containing values from melted columns\n",
        ")\n",
        "tsa_melted.sample(5, random_state=1) # show some random entries"
      ]
    },
    {
      "cell_type": "markdown",
      "id": "42b9e3ea",
      "metadata": {
        "slideshow": {
          "slide_type": "subslide"
        }
      },
      "source": [
        "To convert this into a time series of traveler throughput, we need to replace the year in the `date` column with the one in the `year` column. Otherwise, we are marking prior years' numbers with the wrong year."
      ]
    },
    {
      "cell_type": "code",
      "execution_count": null,
      "id": "8ff144ab",
      "metadata": {},
      "outputs": [],
      "source": [
        "tsa_melted = tsa_melted.assign(\n",
        "    date=lambda x: pd.to_datetime(x.year + x.date.dt.strftime('-%m-%d'))\n",
        ")\n",
        "tsa_melted.sample(5, random_state=1)"
      ]
    },
    {
      "cell_type": "markdown",
      "id": "0719148a",
      "metadata": {
        "slideshow": {
          "slide_type": "subslide"
        }
      },
      "source": [
        "This leaves us with some null values (the dates that aren't present in the dataset):"
      ]
    },
    {
      "cell_type": "code",
      "execution_count": null,
      "id": "54c65dda",
      "metadata": {},
      "outputs": [],
      "source": [
        "tsa_melted.sort_values('date').tail(3)"
      ]
    },
    {
      "cell_type": "markdown",
      "id": "27495c26",
      "metadata": {
        "slideshow": {
          "slide_type": "fragment"
        }
      },
      "source": [
        "These can be dropped with the `dropna()` method:"
      ]
    },
    {
      "cell_type": "code",
      "execution_count": null,
      "id": "cbf80761",
      "metadata": {},
      "outputs": [],
      "source": [
        "tsa_melted = tsa_melted.dropna()\n",
        "tsa_melted.sort_values('date').tail(3)"
      ]
    },
    {
      "cell_type": "markdown",
      "id": "9679890c",
      "metadata": {
        "slideshow": {
          "slide_type": "subslide"
        }
      },
      "source": [
        "### Pivoting\n",
        "\n",
        "Using the melted data, we can pivot the data to compare TSA traveler throughput on specific days across years:"
      ]
    },
    {
      "cell_type": "code",
      "execution_count": null,
      "id": "c2f181d0",
      "metadata": {},
      "outputs": [],
      "source": [
        "tsa_pivoted = tsa_melted\\\n",
        "    .query('date.dt.month == 3 and date.dt.day <= 10')\\\n",
        "    .assign(day_in_march=lambda x: x.date.dt.day)\\\n",
        "    .pivot(index='year', columns='day_in_march', values='travelers')\n",
        "tsa_pivoted"
      ]
    },
    {
      "cell_type": "markdown",
      "id": "5a28962d",
      "metadata": {
        "slideshow": {
          "slide_type": "fragment"
        }
      },
      "source": [
        "**Important**: We aren't covering the `unstack()` and `stack()` methods, which are additional ways to pivot and melt, respectively. These come in handy when we have a multi-level index (e.g., if we ran `set_index()` with more than one column). More information can be found [here](https://pandas.pydata.org/pandas-docs/stable/user_guide/reshaping.html)."
      ]
    },
    {
      "cell_type": "markdown",
      "id": "ff73db19",
      "metadata": {
        "slideshow": {
          "slide_type": "subslide"
        }
      },
      "source": [
        "### Transposing\n",
        "\n",
        "The `T` attribute provides a quick way to flip rows and columns."
      ]
    },
    {
      "cell_type": "code",
      "execution_count": null,
      "id": "2a6c859a",
      "metadata": {},
      "outputs": [],
      "source": [
        "tsa_pivoted.T"
      ]
    },
    {
      "cell_type": "markdown",
      "id": "0d8cb0bd",
      "metadata": {
        "slideshow": {
          "slide_type": "subslide"
        }
      },
      "source": [
        "### Merging\n",
        "\n",
        "We typically observe changes in air travel around the holidays, so adding information about the dates in the TSA dataset provides more context. The `holidays.csv` file contains a few major holidays in the United States:"
      ]
    },
    {
      "cell_type": "code",
      "execution_count": null,
      "id": "3d3863a4",
      "metadata": {},
      "outputs": [],
      "source": [
        "holidays = pd.read_csv('data/holidays.csv', parse_dates=True, index_col='date')\n",
        "holidays.loc['2019']"
      ]
    },
    {
      "cell_type": "markdown",
      "id": "b7bc4989",
      "metadata": {
        "slideshow": {
          "slide_type": "subslide"
        }
      },
      "source": [
        "Merging the holidays with the TSA traveler throughput data will provide more context for our analysis:"
      ]
    },
    {
      "cell_type": "code",
      "execution_count": null,
      "id": "1875767a",
      "metadata": {},
      "outputs": [],
      "source": [
        "tsa_melted_holidays = tsa_melted\\\n",
        "    .merge(holidays, left_on='date', right_index=True, how='left')\\\n",
        "    .sort_values('date')\n",
        "tsa_melted_holidays.head()"
      ]
    },
    {
      "cell_type": "markdown",
      "id": "bf030530",
      "metadata": {
        "slideshow": {
          "slide_type": "fragment"
        }
      },
      "source": [
        "*Tip: There are many parameters for this method, so be sure to check out the [documentation](https://pandas.pydata.org/pandas-docs/stable/reference/api/pandas.DataFrame.merge.html). To append rows, take a look at the `pd.concat()` function.*"
      ]
    },
    {
      "cell_type": "markdown",
      "id": "da4a02ce",
      "metadata": {
        "slideshow": {
          "slide_type": "subslide"
        }
      },
      "source": [
        "We can take this a step further by marking a few days before and after each holiday as part of the holiday. This would make it easier to compare holiday travel across years and look for any uptick in travel around the holidays:"
      ]
    },
    {
      "cell_type": "code",
      "execution_count": null,
      "id": "7ae3bf63",
      "metadata": {},
      "outputs": [],
      "source": [
        "tsa_melted_holiday_travel = tsa_melted_holidays.assign(\n",
        "    holiday=lambda x:\n",
        "        x.holiday\\\n",
        "            .fillna(method='ffill', limit=1)\\\n",
        "            .fillna(method='bfill', limit=2)\n",
        ")"
      ]
    },
    {
      "cell_type": "markdown",
      "id": "ad47d412",
      "metadata": {
        "slideshow": {
          "slide_type": "fragment"
        }
      },
      "source": [
        "*Tip: Check out the [documentation](https://pandas.pydata.org/pandas-docs/stable/reference/api/pandas.DataFrame.fillna.html) for the full list of functionality available with the `fillna()` method.*"
      ]
    },
    {
      "cell_type": "markdown",
      "id": "73456e2c",
      "metadata": {
        "slideshow": {
          "slide_type": "subslide"
        }
      },
      "source": [
        "Notice that we now have values for the day after each holiday and the two days prior. Thanksgiving in 2019 was on November 28th, so the 26th, 27th, and 29th were filled. Since we are only replacing null values, we don't override Christmas Day with the forward fill of Christmas Eve:"
      ]
    },
    {
      "cell_type": "code",
      "execution_count": null,
      "id": "6ecce10e",
      "metadata": {},
      "outputs": [],
      "source": [
        "tsa_melted_holiday_travel.query(\n",
        "    'year == \"2019\" and '\n",
        "    '(holiday == \"Thanksgiving\" or holiday.str.contains(\"Christmas\"))'\n",
        ")"
      ]
    },
    {
      "cell_type": "markdown",
      "id": "57896ed3",
      "metadata": {
        "slideshow": {
          "slide_type": "slide"
        }
      },
      "source": [
        "## Aggregations and grouping\n",
        "\n",
        "After reshaping and cleaning our data, we can perform aggregations to summarize it in a variety of ways. In this section, we will explore using pivot tables, crosstabs, and group by operations to aggregate the data."
      ]
    },
    {
      "cell_type": "markdown",
      "id": "5a8a7631",
      "metadata": {
        "slideshow": {
          "slide_type": "subslide"
        }
      },
      "source": [
        "### Pivot tables\n",
        "We can build a pivot table to compare holiday travel across the years in our dataset:"
      ]
    },
    {
      "cell_type": "code",
      "execution_count": null,
      "id": "317678ff",
      "metadata": {},
      "outputs": [],
      "source": [
        "tsa_melted_holiday_travel.pivot_table(\n",
        "    index='year', columns='holiday', \n",
        "    values='travelers', aggfunc='sum'\n",
        ")"
      ]
    },
    {
      "cell_type": "markdown",
      "id": "ffd3e925",
      "metadata": {
        "slideshow": {
          "slide_type": "subslide"
        }
      },
      "source": [
        "We can use the `pct_change()` method on this result to see which holiday travel periods saw the biggest change in travel:"
      ]
    },
    {
      "cell_type": "code",
      "execution_count": null,
      "id": "4858b884",
      "metadata": {},
      "outputs": [],
      "source": [
        "tsa_melted_holiday_travel.pivot_table(\n",
        "    index='year', columns='holiday', \n",
        "    values='travelers', aggfunc='sum'\n",
        ").pct_change()"
      ]
    },
    {
      "cell_type": "markdown",
      "id": "f6621243",
      "metadata": {
        "slideshow": {
          "slide_type": "subslide"
        }
      },
      "source": [
        "Let's make one last pivot table with column and row subtotals, along with some formatting improvements. First, we set a display option for all floats:"
      ]
    },
    {
      "cell_type": "code",
      "execution_count": null,
      "id": "5d16ff4a",
      "metadata": {},
      "outputs": [],
      "source": [
        "pd.set_option('display.float_format', '{:,.0f}'.format)"
      ]
    },
    {
      "cell_type": "markdown",
      "id": "17221d79",
      "metadata": {
        "slideshow": {
          "slide_type": "subslide"
        }
      },
      "source": [
        "Next, we group together Christmas Eve and Christmas Day, likewise for New Year's Eve and New Year's Day, and create the pivot table:"
      ]
    },
    {
      "cell_type": "code",
      "execution_count": null,
      "id": "eb4e3537",
      "metadata": {},
      "outputs": [],
      "source": [
        "import numpy as np\n",
        "\n",
        "tsa_melted_holiday_travel.assign(\n",
        "    holiday=lambda x: np.where(\n",
        "        x.holiday.str.contains('Christmas|New Year', regex=True), \n",
        "        x.holiday.str.replace('Day|Eve', '', regex=True).str.strip(), \n",
        "        x.holiday\n",
        "    )\n",
        ").pivot_table(\n",
        "    index='year', columns='holiday', \n",
        "    values='travelers', aggfunc='sum', \n",
        "    margins=True, margins_name='Total'\n",
        ")"
      ]
    },
    {
      "cell_type": "markdown",
      "id": "e47cecfc",
      "metadata": {
        "slideshow": {
          "slide_type": "subslide"
        }
      },
      "source": [
        "Before moving on, let's reset the display option:"
      ]
    },
    {
      "cell_type": "code",
      "execution_count": null,
      "id": "a5383fef",
      "metadata": {},
      "outputs": [],
      "source": [
        "pd.reset_option('display.float_format')"
      ]
    },
    {
      "cell_type": "markdown",
      "id": "66f8ae8f",
      "metadata": {
        "slideshow": {
          "slide_type": "fragment"
        }
      },
      "source": [
        "*Tip: Read more about options in the documentation [here](https://pandas.pydata.org/pandas-docs/stable/user_guide/options.html).*"
      ]
    },
    {
      "cell_type": "markdown",
      "id": "40ae1685",
      "metadata": {},
      "source": [
        "### Exercise 2.3\n",
        "\n",
        "##### Using the meteorite data from the `Meteorite_Landings.csv` file, create a pivot table that shows both the number of meteorites and the 95th percentile of meteorite mass for those that were found versus observed falling per year from 2005 through 2009 (inclusive). Hint: Be sure to convert the `year` column to a number as we did in the previous exercise."
      ]
    },
    {
      "cell_type": "code",
      "execution_count": null,
      "id": "be89ee12",
      "metadata": {},
      "outputs": [],
      "source": [
        "# Complete exercise 2.3 in the workbook.ipynb file\n",
        "\n",
        "# WARNING: if you complete the exercise here, your cell numbers\n",
        "# for the rest of the training might not match the slides"
      ]
    }
  ],
  "metadata": {
    "kernelspec": {
      "display_name": "Python 3 (ipykernel)",
      "language": "python",
      "name": "python3"
    }
  },
  "nbformat": 4,
  "nbformat_minor": 5
}
