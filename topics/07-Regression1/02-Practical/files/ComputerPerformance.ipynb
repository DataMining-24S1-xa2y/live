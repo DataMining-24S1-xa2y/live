{
  "cells": [
    {
      "cell_type": "markdown",
      "id": "5efc0fa7",
      "metadata": {},
      "source": [
        "# Computer Performance analysis\n",
        "\n",
        "Dataset is obtained from [here](https://archive.ics.uci.edu/dataset/29/computer+hardware).\n",
        "\n",
        "Import modules and packages "
      ]
    },
    {
      "cell_type": "code",
      "execution_count": null,
      "id": "8f6b819f",
      "metadata": {},
      "outputs": [],
      "source": [
        "import pandas as pd \n",
        "import numpy as np \n",
        "import matplotlib.pyplot as plt \n",
        "import seaborn as sns \n",
        "from sklearn.model_selection import train_test_split \n",
        "from sklearn.linear_model import LinearRegression \n",
        "from sklearn.metrics import mean_squared_error, mean_absolute_error \n",
        "from sklearn import preprocessing "
      ]
    },
    {
      "cell_type": "markdown",
      "id": "40161d37",
      "metadata": {},
      "source": [
        "Read the data"
      ]
    },
    {
      "cell_type": "code",
      "execution_count": null,
      "id": "bc18a6e0",
      "metadata": {},
      "outputs": [],
      "source": [
        "df = pd.read_csv('data/machine.csv')"
      ]
    },
    {
      "cell_type": "markdown",
      "id": "b84e86ce",
      "metadata": {},
      "source": [
        "Exercise: Change the index to reference the Make and Model and remove them as possible features"
      ]
    },
    {
      "cell_type": "markdown",
      "id": "6f7cbd2b",
      "metadata": {},
      "source": [
        "Create feature matrix X and target vector y "
      ]
    },
    {
      "cell_type": "code",
      "execution_count": null,
      "id": "17169efa",
      "metadata": {},
      "outputs": [],
      "source": [
        "X = df.drop(['Make','Model','ActualIndex'],axis= 1) \n",
        "y = df['ActualIndex'] "
      ]
    },
    {
      "cell_type": "markdown",
      "id": "56ae0690",
      "metadata": {},
      "source": [
        "Exercise: Investigate the dataset using EDA techniques"
      ]
    },
    {
      "cell_type": "markdown",
      "id": "ed6b0b9b",
      "metadata": {},
      "source": [
        "Create train and test sets "
      ]
    },
    {
      "cell_type": "code",
      "execution_count": null,
      "id": "fe77a34f",
      "metadata": {},
      "outputs": [],
      "source": [
        "X_train, X_test, y_train, y_test = train_test_split(X, y, test_size=0.3, random_state=42) "
      ]
    },
    {
      "cell_type": "markdown",
      "id": "9b0c23e4",
      "metadata": {},
      "source": [
        "Create a regression model "
      ]
    },
    {
      "cell_type": "code",
      "execution_count": null,
      "id": "8b9cf62c",
      "metadata": {},
      "outputs": [],
      "source": [
        "model = LinearRegression()"
      ]
    },
    {
      "cell_type": "markdown",
      "id": "972553dd",
      "metadata": {},
      "source": [
        "Fit the model to the training data"
      ]
    },
    {
      "cell_type": "code",
      "execution_count": null,
      "id": "00c87321",
      "metadata": {},
      "outputs": [],
      "source": [
        "model.fit(X_train, y_train) "
      ]
    },
    {
      "cell_type": "markdown",
      "id": "29300f5c",
      "metadata": {},
      "source": [
        "Print the model coefficients"
      ]
    },
    {
      "cell_type": "code",
      "execution_count": null,
      "id": "554da0c8",
      "metadata": {},
      "outputs": [],
      "source": [
        "print(dir(model))\n",
        "print(model.coef_)"
      ]
    },
    {
      "cell_type": "markdown",
      "id": "952ebc71",
      "metadata": {},
      "source": [
        "Use the model to predict the target for the test features"
      ]
    },
    {
      "cell_type": "code",
      "execution_count": null,
      "id": "2247a3f2",
      "metadata": {},
      "outputs": [],
      "source": [
        "predictions = model.predict(X_test) "
      ]
    },
    {
      "cell_type": "markdown",
      "id": "58bd661e",
      "metadata": {},
      "source": [
        "model evaluation "
      ]
    },
    {
      "cell_type": "code",
      "execution_count": null,
      "id": "907cfd6e",
      "metadata": {
        "lines_to_next_cell": 2
      },
      "outputs": [],
      "source": [
        "print('mean_squared_error : ', mean_squared_error(y_test, predictions)) \n",
        "print('mean_absolute_error : ', mean_absolute_error(y_test, predictions)) "
      ]
    },
    {
      "cell_type": "markdown",
      "id": "f98ebf18",
      "metadata": {
        "lines_to_next_cell": 2
      },
      "source": [
        "Exercise:\n",
        "\n",
        "1. Try to replicate the statsmodels output using attributes in the model object\n",
        "2. Plot the residuals of the fit and comment on what you see"
      ]
    }
  ],
  "metadata": {},
  "nbformat": 4,
  "nbformat_minor": 5
}
