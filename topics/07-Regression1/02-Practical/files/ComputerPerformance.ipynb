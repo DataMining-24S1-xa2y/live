{
  "cells": [
    {
      "cell_type": "markdown",
      "id": "4c8d4295",
      "metadata": {},
      "source": [
        "# Computer Performance analysis\n",
        "\n",
        "Dataset is obtained from [here](https://archive.ics.uci.edu/dataset/29/computer+hardware).\n",
        "\n",
        "Import modules and packages "
      ]
    },
    {
      "cell_type": "code",
      "execution_count": null,
      "id": "adcc5031",
      "metadata": {},
      "outputs": [],
      "source": [
        "import pandas as pd \n",
        "import numpy as np \n",
        "import matplotlib.pyplot as plt \n",
        "import seaborn as sns \n",
        "from sklearn.model_selection import train_test_split \n",
        "from sklearn.linear_model import LinearRegression \n",
        "from sklearn.metrics import mean_squared_error, mean_absolute_error \n",
        "from sklearn import preprocessing "
      ]
    },
    {
      "cell_type": "markdown",
      "id": "ee0d829a",
      "metadata": {},
      "source": [
        "Read the data"
      ]
    },
    {
      "cell_type": "code",
      "execution_count": null,
      "id": "42b3b197",
      "metadata": {},
      "outputs": [],
      "source": [
        "df = pd.read_csv('data/machine.csv')\n",
        "df.head()"
      ]
    },
    {
      "cell_type": "markdown",
      "id": "7190f35c",
      "metadata": {},
      "source": [
        "Exercise: Change the index to reference the Make and Model and remove them as possible features"
      ]
    },
    {
      "cell_type": "markdown",
      "id": "896f95bf",
      "metadata": {},
      "source": [
        "Create feature matrix X and target vector y "
      ]
    },
    {
      "cell_type": "code",
      "execution_count": null,
      "id": "4dbb9b1a",
      "metadata": {},
      "outputs": [],
      "source": [
        "X = df.drop(['Make','Model','ActualIndex'],axis= 1) \n",
        "y = df['ActualIndex'] "
      ]
    },
    {
      "cell_type": "markdown",
      "id": "67b32c8a",
      "metadata": {},
      "source": [
        "Exercise: Investigate the dataset using EDA techniques"
      ]
    },
    {
      "cell_type": "markdown",
      "id": "e9295ab9",
      "metadata": {},
      "source": [
        "Create train and test sets "
      ]
    },
    {
      "cell_type": "code",
      "execution_count": null,
      "id": "670e62a2",
      "metadata": {},
      "outputs": [],
      "source": [
        "X_train, X_test, y_train, y_test = train_test_split(X, y, test_size=0.3, random_state=42) "
      ]
    },
    {
      "cell_type": "markdown",
      "id": "adcf9c01",
      "metadata": {},
      "source": [
        "Create a regression model "
      ]
    },
    {
      "cell_type": "code",
      "execution_count": null,
      "id": "30b36060",
      "metadata": {},
      "outputs": [],
      "source": [
        "model = LinearRegression()"
      ]
    },
    {
      "cell_type": "markdown",
      "id": "0d03deec",
      "metadata": {},
      "source": [
        "Fit the model to the training data"
      ]
    },
    {
      "cell_type": "code",
      "execution_count": null,
      "id": "679ba530",
      "metadata": {},
      "outputs": [],
      "source": [
        "model.fit(X_train, y_train) "
      ]
    },
    {
      "cell_type": "markdown",
      "id": "a334447a",
      "metadata": {},
      "source": [
        "Print the model coefficients"
      ]
    },
    {
      "cell_type": "code",
      "execution_count": null,
      "id": "f291e578",
      "metadata": {},
      "outputs": [],
      "source": [
        "dir(model)"
      ]
    },
    {
      "cell_type": "code",
      "execution_count": null,
      "id": "9458ad23",
      "metadata": {},
      "outputs": [],
      "source": [
        "model.coef_"
      ]
    },
    {
      "cell_type": "markdown",
      "id": "22476bd1",
      "metadata": {},
      "source": [
        "Use the model to predict the target for the test features"
      ]
    },
    {
      "cell_type": "code",
      "execution_count": null,
      "id": "7f7abff2",
      "metadata": {},
      "outputs": [],
      "source": [
        "predictions = model.predict(X_test) "
      ]
    },
    {
      "cell_type": "markdown",
      "id": "079071c1",
      "metadata": {},
      "source": [
        "model evaluation "
      ]
    },
    {
      "cell_type": "code",
      "execution_count": null,
      "id": "23165df0",
      "metadata": {
        "lines_to_next_cell": 2
      },
      "outputs": [],
      "source": [
        "print('mean_squared_error : ', mean_squared_error(y_test, predictions)) \n",
        "print('mean_absolute_error : ', mean_absolute_error(y_test, predictions)) "
      ]
    },
    {
      "cell_type": "markdown",
      "id": "91926862",
      "metadata": {
        "lines_to_next_cell": 2
      },
      "source": [
        "Exercise:\n",
        "\n",
        "1. Try to replicate the statsmodels output using attributes in the model object\n",
        "2. Plot the residuals of the fit and comment on what you see"
      ]
    }
  ],
  "metadata": {},
  "nbformat": 4,
  "nbformat_minor": 5
}
