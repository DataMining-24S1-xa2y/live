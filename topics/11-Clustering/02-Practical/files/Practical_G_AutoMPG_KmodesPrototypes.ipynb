{
  "cells": [
    {
      "cell_type": "markdown",
      "id": "0262088c",
      "metadata": {},
      "source": [
        "# Applying k-modes and k-prototypes to MPG data\n",
        "\n",
        "This notebook uses data from [ggplot2's example datasets](https://ggplot2.tidyverse.org/reference/mpg.html) relating to fuel economy expressed as _miles per gallon_ for selected cars offered for sale in the USA.\n",
        "\n",
        "The data was obtained from [here](https://github.com/tidyverse/ggplot2/blob/main/data-raw/mpg.csv) and is named `ggplot-mpg.csv`."
      ]
    },
    {
      "cell_type": "markdown",
      "id": "206d59bc",
      "metadata": {},
      "source": [
        "### Import the standard libraries"
      ]
    },
    {
      "cell_type": "code",
      "execution_count": null,
      "id": "86474a9c",
      "metadata": {
        "tags": [
          "importStandardLibraries"
        ]
      },
      "outputs": [],
      "source": [
        "import os\n",
        "import pandas as pd\n",
        "import numpy as np\n",
        "import matplotlib.pyplot as plt"
      ]
    },
    {
      "cell_type": "markdown",
      "id": "b2166cbf",
      "metadata": {},
      "source": [
        "### Import the kmodes modules"
      ]
    },
    {
      "cell_type": "code",
      "execution_count": null,
      "id": "d53c395e",
      "metadata": {
        "tags": [
          "importKmodes"
        ]
      },
      "outputs": [],
      "source": [
        "from kmodes.kmodes import KModes\n",
        "from kmodes.kprototypes import KPrototypes"
      ]
    },
    {
      "cell_type": "markdown",
      "id": "3a984351",
      "metadata": {
        "tags": [
          "preparingData"
        ]
      },
      "source": [
        "## Reading and preparing the MPG data"
      ]
    },
    {
      "cell_type": "markdown",
      "id": "2961ce3a",
      "metadata": {},
      "source": [
        "### Read the data"
      ]
    },
    {
      "cell_type": "code",
      "execution_count": null,
      "id": "689023ad",
      "metadata": {
        "tags": [
          "readData"
        ]
      },
      "outputs": [],
      "source": [
        "df = pd.read_csv(\"data/ggplot-mpg.csv\")"
      ]
    },
    {
      "cell_type": "markdown",
      "id": "9c42b7cb",
      "metadata": {},
      "source": [
        "### Rename the columns, to make them easier to interpret"
      ]
    },
    {
      "cell_type": "code",
      "execution_count": null,
      "id": "31cbd065",
      "metadata": {
        "tags": [
          "renameColumns"
        ]
      },
      "outputs": [],
      "source": [
        "df.rename(columns={\"displ\": \"displacement\", \"cyl\": \"numCyl\",\n",
        "                   \"drv\" : \"drivetrain\", \"cty\" : \"urban\",\n",
        "                   \"hwy\" : \"extra-urban\", \"fl\" : \"fuel\"}, inplace=True)"
      ]
    },
    {
      "cell_type": "markdown",
      "id": "1449212d",
      "metadata": {},
      "source": [
        "### Derive the `transmission` column"
      ]
    },
    {
      "cell_type": "code",
      "execution_count": null,
      "id": "27c61764",
      "metadata": {
        "tags": [
          "deriveTransmission"
        ]
      },
      "outputs": [],
      "source": [
        "# See https://saturncloud.io/blog/how-to-apply-regex-to-a-pandas-dataframe/\n",
        "df[\"transmission\"] = df[\"trans\"].str.extract(r'^([a-z]+)')"
      ]
    },
    {
      "cell_type": "markdown",
      "id": "eb6a9616",
      "metadata": {},
      "source": [
        "### Derive the `numGears` column"
      ]
    },
    {
      "cell_type": "code",
      "execution_count": null,
      "id": "78427464",
      "metadata": {
        "tags": [
          "deriveNumGears"
        ]
      },
      "outputs": [],
      "source": [
        "# Extract the number (assuming it exists)\n",
        "df[\"numGears\"] = df[\"trans\"].str.extract(r'(\\d+)')\n",
        "\n",
        "# Where a number is not provided, assume it os continuously variable transmission\n",
        "# with numGears equivalent to a large number, say 100\n",
        "df[\"numGears\"] = df[\"numGears\"].fillna(100)"
      ]
    },
    {
      "cell_type": "markdown",
      "id": "c5db93dd",
      "metadata": {},
      "source": [
        "### Standardise the model column, by removing descriptive attributes that are stored in other columns"
      ]
    },
    {
      "cell_type": "code",
      "execution_count": null,
      "id": "e0e1281e",
      "metadata": {
        "tags": [
          "fixModelColumn"
        ]
      },
      "outputs": [],
      "source": [
        "df[\"model\"] = df[\"model\"].str.replace(r' quattro$','',regex=True)\n",
        "df[\"model\"] = df[\"model\"].str.replace(r' 2wd$','',regex=True)\n",
        "df[\"model\"] = df[\"model\"].str.replace(r' 4wd$','',regex=True)\n",
        "df[\"model\"] = df[\"model\"].str.replace(r' pickup$','',regex=True)\n",
        "df[\"model\"] = df[\"model\"].str.replace(r'^toyota ','',regex=True)"
      ]
    },
    {
      "cell_type": "markdown",
      "id": "3b7b4a10",
      "metadata": {},
      "source": [
        "### Prepare the categorical columns:"
      ]
    },
    {
      "cell_type": "code",
      "execution_count": null,
      "id": "8722b1f1",
      "metadata": {
        "tags": [
          "prepareCatCols"
        ]
      },
      "outputs": [],
      "source": [
        "# 1. Identify them by column name\n",
        "catCols = [\"manufacturer\", \"model\", \"drivetrain\", \"fuel\", \"class\", \"transmission\"]\n",
        "\n",
        "# 2. Ensure they are strings\n",
        "# 3. Convert to categorical\n",
        "for catCol in catCols:\n",
        "  df[catCol] = pd.Categorical(df[catCol].astype(str))"
      ]
    },
    {
      "cell_type": "markdown",
      "id": "5d5c6f82",
      "metadata": {},
      "source": [
        "### Prepare the ordered categorical columns:"
      ]
    },
    {
      "cell_type": "code",
      "execution_count": null,
      "id": "2bc5303b",
      "metadata": {
        "tags": [
          "prepareOrderedCatCols"
        ]
      },
      "outputs": [],
      "source": [
        "# 1. Identify them by column name\n",
        "orderedCatCols = [\"displacement\", \"year\", \"numCyl\", \"numGears\"]\n",
        "\n",
        "# 2. Ensure they are strings\n",
        "# 3. Convert to categorical\n",
        "for orderedCatCol in orderedCatCols:\n",
        "  df[orderedCatCol] = pd.Categorical(df[orderedCatCol].astype(str), ordered=True)"
      ]
    },
    {
      "cell_type": "markdown",
      "id": "ec31ec5e",
      "metadata": {},
      "source": [
        "### Prepare the numerical columns:"
      ]
    },
    {
      "cell_type": "code",
      "execution_count": null,
      "id": "2ab77377",
      "metadata": {
        "tags": [
          "prepareNumCols"
        ]
      },
      "outputs": [],
      "source": [
        "# 1. Identify them by column name\n",
        "numCols = [\"urban\", \"extra-urban\"]\n",
        "\n",
        "# 2. Ensure they are floats\n",
        "for numCol in numCols:\n",
        "  df[numCol] = df[numCol].astype(float)"
      ]
    },
    {
      "cell_type": "markdown",
      "id": "a04f71f5",
      "metadata": {},
      "source": [
        "### Check the \"fixes\" that have been applied"
      ]
    },
    {
      "cell_type": "code",
      "execution_count": null,
      "id": "9ea75b22",
      "metadata": {
        "tags": [
          "displayFixedDf"
        ]
      },
      "outputs": [],
      "source": [
        "display(df.head())"
      ]
    },
    {
      "cell_type": "markdown",
      "id": "6eb83937",
      "metadata": {
        "tags": [
          "usingKModes"
        ]
      },
      "source": [
        "## Using KModes on the categorical columns in the MPG data"
      ]
    },
    {
      "cell_type": "markdown",
      "id": "2c388db6",
      "metadata": {},
      "source": [
        "### Find the best k for kmodes on this data"
      ]
    },
    {
      "cell_type": "code",
      "execution_count": null,
      "id": "f92dd0f2",
      "metadata": {
        "tags": [
          "findKforKModes"
        ]
      },
      "outputs": [],
      "source": [
        "kRange = range(1,9)\n",
        "allCatCols = catCols + orderedCatCols\n",
        "scores = dict()\n",
        "for k in kRange:\n",
        "  # Use original Huang initialisation, start from 5 random starting starting points, turn off logging\n",
        "  model = KModes(n_clusters=k, init='Huang', verbose=0, random_state=42, n_init=5)\n",
        "  fittedModel = model.fit(df[allCatCols])\n",
        "  scores[k] = fittedModel.cost_\n",
        "print(scores)"
      ]
    },
    {
      "cell_type": "markdown",
      "id": "d95f202b",
      "metadata": {},
      "source": [
        "### Make sure the `/res` directory exists, so outputs can be sent there"
      ]
    },
    {
      "cell_type": "code",
      "execution_count": null,
      "id": "447808cf",
      "metadata": {
        "lines_to_next_cell": 1,
        "tags": [
          "mkResDir"
        ]
      },
      "outputs": [],
      "source": [
        "# See https://www.tutorialspoint.com/How-can-I-create-a-directory-if-it-does-not-exist-using-Python\n",
        "if not os.path.exists('res'):\n",
        "  os.makedirs('res')"
      ]
    },
    {
      "cell_type": "markdown",
      "id": "2d17412a",
      "metadata": {},
      "source": [
        "### Define a function to plot scores"
      ]
    },
    {
      "cell_type": "code",
      "execution_count": null,
      "id": "ccb19a68",
      "metadata": {
        "lines_to_next_cell": 1,
        "tags": [
          "plotScores"
        ]
      },
      "outputs": [],
      "source": [
        "def plotScores(scores, modelType, dataset):\n",
        "  ModelType = modelType.capitalize()\n",
        "  fig, ax = plt.subplots()\n",
        "  ax.plot(scores.keys(),scores.values(),'-o') # line plot with points shown as filled o's\n",
        "  ax.set_xlabel(\"Number of clusters\") \n",
        "  ax.set_ylabel(\"Total Cluster Variance\") \n",
        "  ax.set_title(f\"Variance scores for {modelType} on {dataset} data\")\n",
        "  fig.savefig(f'res/elbowFor{ModelType}.pdf', bbox_inches='tight')\n",
        "  plt.show()"
      ]
    },
    {
      "cell_type": "markdown",
      "id": "d4a301ac",
      "metadata": {},
      "source": [
        "### Plot the scores for kmodes"
      ]
    },
    {
      "cell_type": "code",
      "execution_count": null,
      "id": "def8b58d",
      "metadata": {
        "tags": [
          "plotScoresForKmodes"
        ]
      },
      "outputs": [],
      "source": [
        "plotScores(scores, 'kmodes', 'ggplot-mpg')"
      ]
    },
    {
      "cell_type": "markdown",
      "id": "896559e6",
      "metadata": {},
      "source": [
        "### Print the best k, variance and iteration count for kmodes on this data with the bestK number of clusters"
      ]
    },
    {
      "cell_type": "code",
      "execution_count": null,
      "id": "2b706122",
      "metadata": {
        "tags": [
          "printBestKforKModes"
        ]
      },
      "outputs": [],
      "source": [
        "bestK = 4\n",
        "model = KModes(n_clusters=bestK, init='Huang', verbose=0, random_state=42, n_init=5)\n",
        "fittedModel = model.fit(df[allCatCols])\n",
        "clusterIDs = fittedModel.predict(df[allCatCols])\n",
        "print(\"Best k is {} with variance {}, found after {} iterations\".format(\n",
        "      bestK, fittedModel.cost_, fittedModel.n_iter_))"
      ]
    },
    {
      "cell_type": "markdown",
      "id": "1b90ce58",
      "metadata": {},
      "source": [
        "### Show the cluster centres for the best values of k for kmodes on this data"
      ]
    },
    {
      "cell_type": "code",
      "execution_count": null,
      "id": "c8c2b2f2",
      "metadata": {
        "tags": [
          "showClusterCentresForKModes"
        ]
      },
      "outputs": [],
      "source": [
        "clusterDf = pd.DataFrame(data=fittedModel.cluster_centroids_, columns=allCatCols)\n",
        "print(f\"With best k = {bestK}, for this data, the kmodes centres are\")\n",
        "display(clusterDf)\n",
        "print(\"The modes are computed per column, so the centres do not need to coincide with existing rows in the data\")"
      ]
    },
    {
      "cell_type": "markdown",
      "id": "7fd31261",
      "metadata": {},
      "source": [
        "### Show the cluster labels for each vehicle using the best values of k for kmodes"
      ]
    },
    {
      "cell_type": "code",
      "execution_count": null,
      "id": "a6ba40fe",
      "metadata": {
        "tags": [
          "showClusterAssignmentsForKModes"
        ]
      },
      "outputs": [],
      "source": [
        "print(f\"Categorical columns only, labeled by kmodes with best k = {bestK}\")\n",
        "labeledDf = df[allCatCols].assign(clusterID=clusterIDs)\n",
        "display(labeledDf)"
      ]
    },
    {
      "cell_type": "markdown",
      "id": "61c59cb8",
      "metadata": {
        "tags": [
          "usingKPrototypes"
        ]
      },
      "source": [
        "## Using KPrototypes on the categorical columns in the MPG data"
      ]
    },
    {
      "cell_type": "markdown",
      "id": "7862339d",
      "metadata": {},
      "source": [
        "### Find the best k for kprototypes on this data"
      ]
    },
    {
      "cell_type": "code",
      "execution_count": null,
      "id": "98e87877",
      "metadata": {
        "tags": [
          "findKforKPrototypes"
        ]
      },
      "outputs": [],
      "source": [
        "kRange = range(1,8)\n",
        "allCols = numCols + allCatCols\n",
        "catColIDs = list(range(len(numCols),len(numCols)+len(allCatCols)))\n",
        "scores = dict()\n",
        "for k in kRange:\n",
        "  # Use Huang initialisation, use 5 random starting starting points, turn off logging\n",
        "  model = KPrototypes(n_clusters=k, init='Huang', verbose=0, random_state=42, n_init=5)\n",
        "  # Note that we need to tell the model which are the categorical columns\n",
        "  fittedModel = model.fit(df[allCols], categorical=catColIDs)\n",
        "  scores[k] = fittedModel.cost_\n",
        "print(scores)"
      ]
    },
    {
      "cell_type": "markdown",
      "id": "08c52c4c",
      "metadata": {},
      "source": [
        "### Plot the scores for kprototypes"
      ]
    },
    {
      "cell_type": "code",
      "execution_count": null,
      "id": "e2566051",
      "metadata": {
        "tags": [
          "plotScoresForKprototypes"
        ]
      },
      "outputs": [],
      "source": [
        "plotScores(scores, 'kprototypes', 'ggplot-mpg')"
      ]
    },
    {
      "cell_type": "markdown",
      "id": "4db433af",
      "metadata": {},
      "source": [
        "### Print the best k, variance and iteration count for kprototypes on this data"
      ]
    },
    {
      "cell_type": "code",
      "execution_count": null,
      "id": "22d057c7",
      "metadata": {
        "tags": [
          "printBestKforKPrototypes"
        ]
      },
      "outputs": [],
      "source": [
        "bestK = 3\n",
        "model = KPrototypes(n_clusters=bestK, init='Huang', verbose=0, random_state=42, n_init=5)\n",
        "fittedModel = model.fit(df[allCols], categorical=catColIDs)\n",
        "# Note that we need to tell the model which are the categorical columns\n",
        "clusterIDs = fittedModel.predict(df[allCols], categorical=catColIDs)\n",
        "print(\"Best k is {} with variance {}, found after {} iterations\".format(\n",
        "      bestK, fittedModel.cost_, fittedModel.n_iter_))"
      ]
    },
    {
      "cell_type": "markdown",
      "id": "351f2364",
      "metadata": {},
      "source": [
        "### Show the cluster centres for the best values of k for kprototypes on this data"
      ]
    },
    {
      "cell_type": "code",
      "execution_count": null,
      "id": "229e9434",
      "metadata": {
        "tags": [
          "showClusterCentresForKPrototypes"
        ]
      },
      "outputs": [],
      "source": [
        "clusterDf = pd.DataFrame(data=fittedModel.cluster_centroids_, columns=allCols)\n",
        "print(f\"With best k = {bestK}, for this data, the kprototypes centres are\")\n",
        "display(clusterDf)\n",
        "print(\"The modes are computed per column, so the centres do not need to coincide with existing rows in the data\")"
      ]
    },
    {
      "cell_type": "markdown",
      "id": "fa724546",
      "metadata": {},
      "source": [
        "### Show the cluster labels for each vehicle using the best values of k for kprototypes"
      ]
    },
    {
      "cell_type": "code",
      "execution_count": null,
      "id": "824fcc7b",
      "metadata": {
        "tags": [
          "showClusterAssignmentsForKPrototypes"
        ]
      },
      "outputs": [],
      "source": [
        "print(f\"All columns, labeled by kprototypes with best k = {bestK}\")\n",
        "labeledDf = df[allCols].assign(clusterID=clusterIDs)\n",
        "display(labeledDf)"
      ]
    },
    {
      "cell_type": "markdown",
      "id": "8eb661ae",
      "metadata": {
        "tags": [
          "exercises"
        ]
      },
      "source": [
        "## Exercises\n",
        " \n",
        "1. Try adjusting the columns included for both kmeans and k prototypes. What\n",
        "   effect does it have on the cluster centres and hence the cluster assignments?\n",
        "2. Apply kmeans to the urban and extra-urban columns. How do the cluster assignments\n",
        "   differ with those from kmodes and kprototypes?"
      ]
    }
  ],
  "metadata": {
    "kernelspec": {
      "display_name": "Python 3 (ipykernel)",
      "language": "python",
      "name": "python3"
    }
  },
  "nbformat": 4,
  "nbformat_minor": 5
}
