{
  "cells": [
    {
      "cell_type": "markdown",
      "id": "8d71f9a5",
      "metadata": {},
      "source": [
        "# AGNES worked example\n",
        "\n",
        "We use the distance data that was presented in class. Note that the scipy hierarchical clustering has more options and can be used to draw a dendrogram.\n",
        "\n",
        "It has the feature that it expects a condensed (1-d) version of the distance matrix."
      ]
    },
    {
      "cell_type": "code",
      "execution_count": null,
      "id": "17ece332",
      "metadata": {
        "tags": [
          "initialise"
        ]
      },
      "outputs": [],
      "source": [
        "## See https://stackoverflow.com/a/50662956/1988855\n",
        "#from pathlib import Path\n",
        "# See https://stackoverflow.com/a/65907473/1988855\n",
        "#import ipynbname\n",
        "\n",
        "#try:\n",
        "#  fname = Path(__file__).stem\n",
        "#except NameError:\n",
        "#  fname = ipynbname.name().replace(\".ipynb\",\"\")\n",
        "#print(fname)\n",
        "fname = \"GenDist_AGNES\"\n",
        "\n",
        "import numpy as np\n",
        "import matplotlib.pyplot as plt\n",
        "from scipy.cluster.hierarchy import linkage, dendrogram\n",
        "import time\n",
        "\n",
        "dataDir = \"data\"\n",
        "# Make sure the outputDir subdirectory exists\n",
        "outputDir = \"output/\" + fname\n",
        "import os, errno\n",
        "try:\n",
        "  os.makedirs(outputDir)\n",
        "except OSError as e:\n",
        "  if e.errno != errno.EEXIST:\n",
        "    raise"
      ]
    },
    {
      "cell_type": "markdown",
      "id": "864cd686",
      "metadata": {},
      "source": [
        "## Create the distance matrix `distmatrix`"
      ]
    },
    {
      "cell_type": "code",
      "execution_count": null,
      "id": "ef6ceffd",
      "metadata": {
        "tags": [
          "setupData"
        ]
      },
      "outputs": [],
      "source": [
        "distMatrix = np.array([\n",
        "    (0,  9,  3, 6, 11),\n",
        "    (9,  0,  7, 5, 10),\n",
        "    (3,  7,  0, 9, 2),\n",
        "    (6,  5,  9, 0, 8),\n",
        "    (11, 10, 2, 8, 0)\n",
        "])\n",
        "# See https://stackoverflow.com/a/44395030\n",
        "condensed = list(distMatrix[np.tril_indices(5, k=-1)]) # [9, 3, 6, 11, 7, 5, 10, 9, 2, 8]\n",
        "#print(f\"condensed is {condensed} and len(condensed) is {len(condensed)}\")"
      ]
    },
    {
      "cell_type": "markdown",
      "id": "f1fdf45b",
      "metadata": {},
      "source": [
        "We now generate the different clustering an their associated dendrograms for this data."
      ]
    },
    {
      "cell_type": "code",
      "execution_count": null,
      "id": "13269005",
      "metadata": {
        "lines_to_next_cell": 2,
        "tags": [
          "compareLinkages"
        ]
      },
      "outputs": [],
      "source": [
        "algName = \"AgglomerativeClustering\"\n",
        "labels = ('A','B','C','D','E')\n",
        "for link in ['complete', 'single', 'average', 'ward']:\n",
        "  #plt.figure()\n",
        "  start_time = time.time()\n",
        "  Z = linkage(condensed, method=link)\n",
        "  end_time = time.time()\n",
        "  fig, ax = plt.subplots(layout='constrained')\n",
        "  #plt.figure(figsize=(6, 4))\n",
        "  ax.set_title(algName+\" : \"+link)\n",
        "  R = dendrogram(Z, ax=ax, orientation='top', labels=labels, truncate_mode=None)\n",
        "  fig.savefig(outputDir + '/AGNES'+link+'.pdf', bbox_inches='tight')\n",
        "  elapsed_time = end_time-start_time\n",
        "  print(f\"{link} takes {elapsed_time}\")\n",
        "  plt.show()"
      ]
    },
    {
      "cell_type": "markdown",
      "id": "eb88228c",
      "metadata": {},
      "source": [
        "Because there is relatively little data, the choice of linkage has less dramatic effects.\n",
        "\n",
        "We can choose to \"cut\" the tree at different heights. For example, cutting the single linkage at a distance of 4, we see an ACE cluster and two singleton clusters B and D.\n",
        "\n",
        "As we did in the class notes, we also consider how the distance matrix can be used to define some points. We use MultiDimensional Scaling, mapping the points into the x-y plane. Note that this embedding is _not unique_. You can shift (translate) and rotate the points to get a different embedding which still has the same between-point distances.\n",
        "\n",
        "The sklearn MDS class can work with observation-feature data or distance-distance data. We use the latter here (i.e., the distance matrix has been `precomputed`). Note that we can transform into any number of dimensions, but 2 is handy for putting a scatter plot on the screen! "
      ]
    },
    {
      "cell_type": "code",
      "execution_count": null,
      "id": "df4a62f5",
      "metadata": {
        "tags": [
          "MDS"
        ]
      },
      "outputs": [],
      "source": [
        "from sklearn.manifold import MDS\n",
        "\n",
        "embedding = MDS(n_components=2, dissimilarity='precomputed', normalized_stress='auto', random_state=42)\n",
        "X = embedding.fit_transform(distMatrix)\n",
        "\n",
        "fig, ax = plt.subplots(layout='constrained')\n",
        "ax.scatter(X[:,0], X[:,1], s=100, c='orange')\n",
        "ax.axis('equal')\n",
        "ax.set_title('MDS: Embedded points in 2-D')\n",
        "fig.savefig(outputDir + '/AGNES_MDS.pdf', bbox_inches='tight')\n",
        "plt.show()"
      ]
    },
    {
      "cell_type": "code",
      "execution_count": null,
      "id": "3356f17a",
      "metadata": {},
      "outputs": [],
      "source": []
    }
  ],
  "metadata": {
    "kernelspec": {
      "display_name": "Python 3 (ipykernel)",
      "language": "python",
      "name": "python3"
    }
  },
  "nbformat": 4,
  "nbformat_minor": 5
}
