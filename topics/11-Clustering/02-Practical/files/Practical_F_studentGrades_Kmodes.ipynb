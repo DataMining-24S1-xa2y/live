{
  "cells": [
    {
      "cell_type": "markdown",
      "id": "697f8d79",
      "metadata": {},
      "source": [
        "# Cluster students given their exam grades\n",
        "\n",
        "Based on [Worked student grades k-modes example](https://codinginfinite.com/k-modes-clustering-algorithm-with-numerical-example/) notebook,\n",
        "with help from this [Random Name generator](https://randomwordgenerator.com/name.php)."
      ]
    },
    {
      "cell_type": "markdown",
      "id": "cc5901cc",
      "metadata": {},
      "source": [
        "## Import the modules we need"
      ]
    },
    {
      "cell_type": "code",
      "execution_count": null,
      "id": "ef8f24a0",
      "metadata": {
        "tags": [
          "imports"
        ]
      },
      "outputs": [],
      "source": [
        "from kmodes.kmodes import KModes\n",
        "import pandas as pd\n",
        "import numpy as np"
      ]
    },
    {
      "cell_type": "markdown",
      "id": "8a5681fa",
      "metadata": {},
      "source": [
        "## Read the data from `data/studentGrades.csv`"
      ]
    },
    {
      "cell_type": "code",
      "execution_count": null,
      "id": "7c960d8f",
      "metadata": {
        "tags": [
          "readData"
        ]
      },
      "outputs": [],
      "source": [
        "df=pd.read_csv(\"data/studentGrades.csv\", index_col=[\"Student\"])\n",
        "display(df)"
      ]
    },
    {
      "cell_type": "markdown",
      "id": "b21a8db9",
      "metadata": {},
      "source": [
        "## Configure the KModes model\n",
        "\n",
        "1. n_clusters = 3\n",
        "2. random_state = 42 (seed used by RNG to find initial centres and to resolve ties)\n",
        "3. n_init = 5 (rerun with 5 random starts, take the overall best)"
      ]
    },
    {
      "cell_type": "code",
      "execution_count": null,
      "id": "5b0b989c",
      "metadata": {
        "tags": [
          "configureKmodes"
        ]
      },
      "outputs": [],
      "source": [
        "model=KModes(n_clusters=3, random_state=42, n_init=4)"
      ]
    },
    {
      "cell_type": "markdown",
      "id": "991a00a2",
      "metadata": {},
      "source": [
        "## Fit the data and display the resulting \"centroids\""
      ]
    },
    {
      "cell_type": "code",
      "execution_count": null,
      "id": "0190f57c",
      "metadata": {
        "tags": [
          "fitKmodes"
        ]
      },
      "outputs": [],
      "source": [
        "fittedModel=model.fit(df)\n",
        "print(\"Cluster centroids - archetypal student grades\")\n",
        "print(fittedModel.cluster_centroids_)"
      ]
    },
    {
      "cell_type": "markdown",
      "id": "218e987d",
      "metadata": {},
      "source": [
        "## Show how data has been assigned to clusters, given the fitted \"centroids\""
      ]
    },
    {
      "cell_type": "code",
      "execution_count": null,
      "id": "9f53861a",
      "metadata": {
        "tags": [
          "showClusterAssignment"
        ]
      },
      "outputs": [],
      "source": [
        "clusters = fittedModel.predict(df)\n",
        "df[\"ClusterID\"] = clusters\n",
        "print(\"Allocation of students to clusters\")\n",
        "display(df)"
      ]
    },
    {
      "cell_type": "markdown",
      "id": "08fbf393",
      "metadata": {},
      "source": [
        "## See how two new students would be assigned to these clusters, given their grades"
      ]
    },
    {
      "cell_type": "code",
      "execution_count": null,
      "id": "ae73c1fe",
      "metadata": {
        "tags": [
          "showClusterAssignmentForNew"
        ]
      },
      "outputs": [],
      "source": [
        "unseenStudentGrades = [['A','B','A','C','B'], ['C','A','B','B','A']]\n",
        "clusters=fittedModel.predict(unseenStudentGrades)\n",
        "print(\"Allocation of new students to existing clusters\")\n",
        "print(clusters)"
      ]
    }
  ],
  "metadata": {},
  "nbformat": 4,
  "nbformat_minor": 5
}
