{
  "cells": [
    {
      "cell_type": "code",
      "execution_count": null,
      "id": "9b7c8159",
      "metadata": {
        "lines_to_next_cell": 0,
        "tags": [
          "headerComment"
        ]
      },
      "outputs": [],
      "source": [
        "\"\"\"\n",
        "===============================================================================\n",
        "Selecting the number of clusters with silhouette analysis on KMeans clustering\n",
        "===============================================================================\n",
        "\n",
        "Silhouette analysis can be used to study the separation distance between the\n",
        "resulting clusters. The silhouette plot displays a measure of how close each\n",
        "point in one cluster is to points in the neighboring clusters and thus provides\n",
        "a way to assess parameters like number of clusters visually. This measure has a\n",
        "range of [-1, 1].\n",
        "\n",
        "Silhouette coefficients (as these values are referred to as) near +1 indicate\n",
        "that the sample is far away from the neighboring clusters. A value of 0\n",
        "indicates that the sample is on or very close to the decision boundary between\n",
        "two neighboring clusters and negative values indicate that those samples might\n",
        "have been assigned to the wrong cluster.\n",
        "\n",
        "In this example the silhouette analysis is used to choose an optimal value for\n",
        "``n_clusters``. The silhouette plot shows that the ``n_clusters`` value of 3, 5\n",
        "and 6 are a bad pick for the given data due to the presence of clusters with\n",
        "below average silhouette scores and also due to wide fluctuations in the size\n",
        "of the silhouette plots. Silhouette analysis is more ambivalent in deciding\n",
        "between 2 and 4.\n",
        "\n",
        "Also from the thickness of the silhouette plot the cluster size can be\n",
        "visualized. The silhouette plot for cluster 0 when ``n_clusters`` is equal to\n",
        "2, is bigger in size owing to the grouping of the 3 sub clusters into one big\n",
        "cluster. However when the ``n_clusters`` is equal to 4, all the plots are more\n",
        "or less of similar thickness and hence are of similar sizes as can be also\n",
        "verified from the labelled scatter plot on the right.\n",
        "\n",
        "Based on [scikit-learn example](https://scikit-learn.org/stable/auto_examples/cluster/plot_kmeans_silhouette_analysis.html)\n",
        "\n",
        "Modified Bernard Butler (SETU): refactored, save the plots and plot the inertia and average silhouette scores.\n",
        " \n",
        "\"\"\""
      ]
    },
    {
      "cell_type": "markdown",
      "id": "b2a5bac1",
      "metadata": {},
      "source": [
        "# Silhouette scoring on k-means applied to generated blobs\n",
        "\n",
        "This notebook shows how silhouette scores can be used to rank different k-means calssifiers."
      ]
    },
    {
      "cell_type": "markdown",
      "id": "45577178",
      "metadata": {},
      "source": [
        "## Import the libraries"
      ]
    },
    {
      "cell_type": "code",
      "execution_count": null,
      "id": "71d04253",
      "metadata": {
        "tags": [
          "imports"
        ]
      },
      "outputs": [],
      "source": [
        "from sklearn.datasets import make_blobs\n",
        "from sklearn.cluster import KMeans\n",
        "from sklearn.metrics import silhouette_samples, silhouette_score\n",
        "\n",
        "import matplotlib.pyplot as plt\n",
        "from matplotlib import cm\n",
        "import clusSupport as cs"
      ]
    },
    {
      "cell_type": "markdown",
      "id": "d059be18",
      "metadata": {},
      "source": [
        "## Generating the sample data from make_blobs"
      ]
    },
    {
      "cell_type": "code",
      "execution_count": null,
      "id": "9146fff6",
      "metadata": {
        "tags": [
          "makeData"
        ]
      },
      "outputs": [],
      "source": [
        "# This particular setting has one distinct cluster and 3 clusters placed close\n",
        "# together.\n",
        "X, y = make_blobs(n_samples=500,\n",
        "                  n_features=2,\n",
        "                  centers=4,\n",
        "                  cluster_std=1,\n",
        "                  center_box=(-10.0, 10.0),\n",
        "                  shuffle=True,\n",
        "                  random_state=1)  # For reproducibility"
      ]
    },
    {
      "cell_type": "markdown",
      "id": "699fc8c0",
      "metadata": {},
      "source": [
        "## Initialise and prepare for the loop"
      ]
    },
    {
      "cell_type": "code",
      "execution_count": null,
      "id": "98de1588",
      "metadata": {
        "tags": [
          "initialisation"
        ]
      },
      "outputs": [],
      "source": [
        "range_n_clusters = list(range(2,7))\n",
        "\n",
        "#print(__doc__)\n",
        "clustererName = \"KMeans\"\n",
        "inertiaList = []\n",
        "silhouetteList = []\n",
        "\n",
        "outputDir = \"output/GenBlob_Scores/\"\n",
        "import os, errno\n",
        "try:\n",
        "    os.makedirs(outputDir)\n",
        "except OSError as e:\n",
        "    if e.errno != errno.EEXIST:\n",
        "        raise"
      ]
    },
    {
      "cell_type": "markdown",
      "id": "9abd38d9",
      "metadata": {},
      "source": [
        "## Iterate over `k` (the number of clusters), accumulating the inertia and silhouette scores at each iteration"
      ]
    },
    {
      "cell_type": "code",
      "execution_count": null,
      "id": "f34c0872",
      "metadata": {
        "tags": [
          "iterateOverK"
        ]
      },
      "outputs": [],
      "source": [
        "for n_clusters in range_n_clusters:\n",
        "    # Create a subplot with 1 row and 2 columns\n",
        "    fig, (ax1, ax2) = plt.subplots(1, 2)\n",
        "    fig.set_size_inches(18, 7)\n",
        "\n",
        "    # Initialize the clusterer with n_clusters value and a random generator\n",
        "    # seed of 10 for reproducibility.\n",
        "    clusterer = KMeans(n_clusters=n_clusters, random_state=10)\n",
        "    cluster_labels = clusterer.fit_predict(X)\n",
        "\n",
        "    # Append inertia attribute\n",
        "    inertiaList.append(clusterer.inertia_)\n",
        "\n",
        "    # The silhouette_score gives the average value for all the samples.\n",
        "    # This gives a view of the density and separation of the formed\n",
        "    # clusters\n",
        "    silhouette_avg = silhouette_score(X, cluster_labels)\n",
        "    print(\"For n_clusters =\", n_clusters,\n",
        "          \"The average silhouette_score is :\", silhouette_avg)\n",
        "\n",
        "    # Append silhouette score\n",
        "    silhouetteList.append(silhouette_avg)\n",
        "\n",
        "    # Compute the silhouette scores for each sample\n",
        "    sample_silhouette_values = silhouette_samples(X, cluster_labels)\n",
        "\n",
        "    ax1 = cs.plotSilhouetteClusters(n_clusters, cluster_labels, X, sample_silhouette_values, silhouette_avg, ax1)\n",
        "\n",
        "    # 2nd Plot showing the actual clusters formed\n",
        "    featureName = [\"f1\",\"f2\"]\n",
        "    ax2 = cs.plotDataWithClusters(n_clusters, cluster_labels, clusterer, X, featureName, ax2)\n",
        "\n",
        "    plt.suptitle((\"Silhouette analysis for \" + clustererName + \" clustering on sample data \"\n",
        "                  \"with n_clusters = %d\" % n_clusters),\n",
        "                 fontsize=14, fontweight='bold')\n",
        "    fig.savefig(outputDir+\"s\"+str(n_clusters)+\".pdf\", bbox_inches='tight')\n",
        "    plt.show()"
      ]
    },
    {
      "cell_type": "markdown",
      "id": "ac162781",
      "metadata": {},
      "source": [
        "## Plot the inertia and silhouette scores against `k`"
      ]
    },
    {
      "cell_type": "code",
      "execution_count": null,
      "id": "657a6d82",
      "metadata": {
        "tags": [
          "overallScorePlots"
        ]
      },
      "outputs": [],
      "source": [
        "fig =  cs.plotInertiaSilhouette(range_n_clusters, clustererName, inertiaList, silhouetteList, outputDir, plt)\n",
        "plt.show()"
      ]
    }
  ],
  "metadata": {
    "kernelspec": {
      "display_name": "Python 3",
      "language": "python",
      "name": "python3"
    }
  },
  "nbformat": 4,
  "nbformat_minor": 5
}
