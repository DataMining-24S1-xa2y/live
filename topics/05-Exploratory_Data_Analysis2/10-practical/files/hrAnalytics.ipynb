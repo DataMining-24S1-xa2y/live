{
  "cells": [
    {
      "cell_type": "markdown",
      "id": "ff6fab42",
      "metadata": {},
      "source": [
        "# Interactive investigation of generated employee data\n",
        "\n",
        "IBM has released a generated dataset of employee characteristics, suitable for HR analytics (notably: predicting churn, which is when employees leave voluntarily, often for a position at another company).\n",
        "\n",
        "This dataset was released to kaggle but is provided as archive.zip for your convenience.\n",
        "\n",
        "The aim of this notebook is to show how to create some interactive visualisations, which might be convenient for exploring data.\n",
        "\n",
        "Subsequently, the most informative visualisations can be collected in a separate notebook and shared with stakeholders, such as the HR Department in this case."
      ]
    },
    {
      "cell_type": "code",
      "execution_count": null,
      "id": "86e51f03",
      "metadata": {},
      "outputs": [],
      "source": [
        "import pandas as pd\n",
        "import matplotlib as plt\n",
        "import seaborn as sns\n",
        "\n",
        "# Also import Jupyter's ipywidgets package, so you can have interactive control later\n",
        "import ipywidgets as widgets"
      ]
    },
    {
      "cell_type": "code",
      "execution_count": null,
      "id": "a14ed854",
      "metadata": {},
      "outputs": [],
      "source": [
        "# Notice that pandas can read directly from a zip archive, without needing to unzip it first\n",
        "df = pd.read_csv('data/archive.zip', compression='zip')\n",
        "df.head()"
      ]
    },
    {
      "cell_type": "markdown",
      "id": "d9961274",
      "metadata": {},
      "source": [
        "The dataset is clean, column names and datatypes are OK, so we can proceed to visualise the data."
      ]
    },
    {
      "cell_type": "code",
      "execution_count": null,
      "id": "c3f74cf3",
      "metadata": {},
      "outputs": [],
      "source": [
        "df.info()"
      ]
    },
    {
      "cell_type": "markdown",
      "id": "eeacebf5",
      "metadata": {},
      "source": [
        "Now we are going to group the object (soon to be converted to categorical) and number (Int64) columns so that we can investigate them with suitable plot types."
      ]
    },
    {
      "cell_type": "code",
      "execution_count": null,
      "id": "d3de5cd3",
      "metadata": {},
      "outputs": [],
      "source": [
        "cat_col = [col for col in df.columns if df[col].dtype == 'object']\n",
        "num_col = [col for col in df.columns if df[col].dtype == 'int64']"
      ]
    },
    {
      "cell_type": "markdown",
      "id": "2501054e",
      "metadata": {},
      "source": [
        "Using the concepts in [this answer](https://stackoverflow.com/a/41644154/1988855), here is a oneliner that converts all object columns to categories (which is more convenient in this case). NB - students are advised to test first and to apply such one liners only when they are sure that this is appropriate."
      ]
    },
    {
      "cell_type": "code",
      "execution_count": null,
      "id": "1497a786",
      "metadata": {},
      "outputs": [],
      "source": [
        "df[df.select_dtypes(['object']).columns] = df.select_dtypes(['object']).apply(lambda x: x.astype('category'))\n",
        "df.info()"
      ]
    },
    {
      "cell_type": "markdown",
      "id": "c607ec81",
      "metadata": {},
      "source": [
        "## Categorical column analysis"
      ]
    },
    {
      "cell_type": "code",
      "execution_count": null,
      "id": "cef114ae",
      "metadata": {},
      "outputs": [],
      "source": [
        "\n",
        "ddCol = widgets.Dropdown(options=cat_col, value=cat_col[0], description=\"Column\")\n",
        "ddHue = widgets.Dropdown(options=cat_col, value=cat_col[0], description=\"Hue\")\n",
        "orient = [\"h\", \"v\"]\n",
        "ddOrient = widgets.Dropdown(options=orient, value=orient[0], description=\"Orient\")\n",
        "\n",
        "uiControls = widgets.HBox([ddCol, ddHue, ddOrient])"
      ]
    },
    {
      "cell_type": "markdown",
      "id": "8bd985d4",
      "metadata": {},
      "source": [
        "Now define a wrapper function around countplot, to use the dropdown values supplied interactively by the user from the uiControls widgets."
      ]
    },
    {
      "cell_type": "code",
      "execution_count": null,
      "id": "c2bfb546",
      "metadata": {},
      "outputs": [],
      "source": [
        "def doCountplot(column, hue, orient):\n",
        "    p=sns.countplot(data=df, x=column, hue=hue, orient=orient)"
      ]
    },
    {
      "cell_type": "markdown",
      "id": "c5b84bed",
      "metadata": {},
      "source": [
        "Now create the interactive plot and display the ui controls and the interactive plot together. Note that when the dropdown values change, the plot is redrawn automatically."
      ]
    },
    {
      "cell_type": "code",
      "execution_count": null,
      "id": "017257c3",
      "metadata": {},
      "outputs": [],
      "source": [
        "out = widgets.interactive_output(doCountplot, {\"column\":ddCol, \"hue\":ddHue, \"orient\":ddOrient})\n",
        "display(uiControls, out)"
      ]
    },
    {
      "cell_type": "markdown",
      "id": "4f2e916a",
      "metadata": {},
      "source": [
        "Note that sometimes the formatting needs to be improved because the default settings, as above do nnot suit, e.g., if the category has a large number of values. However, this is a good way to investigate many options quickly (with very little coding)."
      ]
    },
    {
      "cell_type": "markdown",
      "id": "97305f56",
      "metadata": {},
      "source": [
        "## Numerical column analysis\n",
        "\n",
        "We can also look at the numerical columns `num_col`. There are very many seaborn plot types for numeric data in particular. Here we consider one of the simplest such plot type: [relplot](https://seaborn.pydata.org/generated/seaborn.relplot.html), which is a generalisation of scatterplots and lineplots.\n",
        "\n",
        "We set up dropdowns as before, this time for the `x` and `y` axis data for the plot, as well as the (categorical-valued) `hue`, which can be used for grouping as before.\n",
        "\n",
        "To make things interesting, we also introduce the ability to filter the data so that the rows considered have Age less than or equal to what is chosen in the slider. The default setting is the maximum age found in the data, which has the effect of including all rows."
      ]
    },
    {
      "cell_type": "code",
      "execution_count": null,
      "id": "762f013a",
      "metadata": {},
      "outputs": [],
      "source": [
        "ddX = widgets.Dropdown(options=num_col, value=num_col[0], description=\"x\")\n",
        "ddY = widgets.Dropdown(options=num_col, value=num_col[0], description=\"y\")\n",
        "ddHue = widgets.Dropdown(options=cat_col, value=cat_col[0], description=\"Hue\")\n",
        "slAge = widgets.IntSlider(value=df[\"Age\"].max() , min= df[\"Age\"].min(), max= df[\"Age\"].max(), description='MaxAge')\n",
        "\n",
        "upperBox = widgets.HBox([ddX, ddY])\n",
        "lowerBox = widgets.HBox([ddHue, slAge])\n",
        "uiControls = widgets.VBox([upperBox, lowerBox])"
      ]
    },
    {
      "cell_type": "markdown",
      "id": "2d69e242",
      "metadata": {},
      "source": [
        "Now we define the `relplot` wrapping function, including the maxAge filter."
      ]
    },
    {
      "cell_type": "code",
      "execution_count": null,
      "id": "b937ed87",
      "metadata": {},
      "outputs": [],
      "source": [
        "def doRelplot(col1, col2, hue, maxAge):\n",
        "    p = sns.relplot(data=df[df[\"Age\"]<=maxAge], x=col1, y=col2, hue=hue)"
      ]
    },
    {
      "cell_type": "markdown",
      "id": "077de138",
      "metadata": {},
      "source": [
        "As before, we need to create the interactive plot, and to display the uiControls and it on the screen."
      ]
    },
    {
      "cell_type": "code",
      "execution_count": null,
      "id": "aa204626",
      "metadata": {},
      "outputs": [],
      "source": [
        "out = widgets.interactive_output(doRelplot, {\"col1\":ddX, \"col2\":ddY, \"hue\":ddHue, \"maxAge\":slAge})\n",
        "display(uiControls, out)"
      ]
    },
    {
      "cell_type": "markdown",
      "id": "3e42721b",
      "metadata": {},
      "source": [
        "## Exercise\n",
        "\n",
        "1. This is a rich dataset. Try some of the visualisation plot types that were shown in class, choosing suitable UI controls to enter parameter values, writing wrappers and exploring the data with your interactive plots, noting why you used that visualisation and what you found.\n",
        "\n",
        "2. If you wished to do something similar programmatically, how would you do this? NB: You can do better than copying and pasting code many times!"
      ]
    }
  ],
  "metadata": {
    "kernelspec": {
      "display_name": "Python 3 (ipykernel)",
      "language": "python",
      "name": "python3"
    }
  },
  "nbformat": 4,
  "nbformat_minor": 5
}
